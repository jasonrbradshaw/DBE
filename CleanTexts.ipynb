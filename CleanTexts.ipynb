{
 "cells": [
  {
   "cell_type": "markdown",
   "metadata": {},
   "source": [
    "# Document Cleaning"
   ]
  },
  {
   "cell_type": "code",
   "execution_count": 105,
   "metadata": {},
   "outputs": [],
   "source": [
    "# Import modules\n",
    "# RegEx\n",
    "import re\n",
    "\n",
    "# Lemmatization Module\n",
    "import nltk\n",
    "from nltk.stem import WordNetLemmatizer\n",
    "wordnet_lemmatizer = WordNetLemmatizer()\n",
    "\n",
    "# Tokenizer\n",
    "from nltk.tokenize import word_tokenize "
   ]
  },
  {
   "cell_type": "markdown",
   "metadata": {},
   "source": [
    "## \"Alciphron\", George Berkeley"
   ]
  },
  {
   "cell_type": "code",
   "execution_count": 106,
   "metadata": {},
   "outputs": [],
   "source": [
    "with open(\"CorpusComplete/Berkeley_Alciphron.txt\", \"r\", encoding=\"utf-8\") as file:\n",
    "    B_Alc = file.read()"
   ]
  },
  {
   "cell_type": "code",
   "execution_count": 107,
   "metadata": {},
   "outputs": [],
   "source": [
    "# Remove header/TOC information\n",
    "B_AlcPage = re.sub(r'Alciphron George Berkeley First Dialogue',\" \",B_Alc)\n",
    "B_AlcPage = re.sub(r'Alciphron George Berkeley Second dialogue',\" \",B_AlcPage)\n",
    "B_AlcPage = re.sub(r'Alciphron George Berkeley Third dialogue',\" \",B_AlcPage)\n",
    "B_AlcPage = re.sub(r'Alciphron George Berkeley Fourth dialogue',\" \",B_AlcPage)\n",
    "B_AlcPage = re.sub(r'Alciphron George Berkeley Fifth dialogue',\" \",B_AlcPage)\n",
    "B_AlcPage = re.sub(r'Alciphron George Berkeley Sixth dialogue',\" \",B_AlcPage)\n",
    "B_AlcPage = re.sub(r'Alciphron George Berkeley Seventh dialogue',\" \",B_AlcPage)\n",
    "B_AlcPage = re.sub(r'Alciphron George Berkeley',\" \",B_AlcPage)"
   ]
  },
  {
   "cell_type": "code",
   "execution_count": 108,
   "metadata": {},
   "outputs": [],
   "source": [
    "# Remove dialogue names\n",
    "B_AlcName = re.sub(r'Alciphron:',\" \",B_AlcPage)\n",
    "B_AlcName = re.sub(r'Lysicles:',\" \",B_AlcName)\n",
    "B_AlcName = re.sub(r'Euphranor:',\" \",B_AlcName)\n",
    "B_AlcName = re.sub(r'Crito:',\" \",B_AlcName)"
   ]
  },
  {
   "cell_type": "code",
   "execution_count": 109,
   "metadata": {},
   "outputs": [],
   "source": [
    "# Remove Roman numerals\n",
    "B_AlcRom = re.sub(r'\\bM{0,4}(CM|CD|D?C{0,3})(XC|XL|L?X{0,3})(IX|IV|V?I{0,3})\\b\\.',\" \",B_AlcName)\n",
    "\n",
    "# Remove all punctuation\n",
    "B_AlcRom = re.sub(r'[^\\w\\s]',\" \",B_AlcRom)\n",
    "\n",
    "# Replace \"ideas\" with \"idea\", lemmatizer does not pick this up\n",
    "B_AlcRom = re.sub(r'[^\\w\\s]',\" \",B_AlcRom)"
   ]
  },
  {
   "cell_type": "code",
   "execution_count": 110,
   "metadata": {},
   "outputs": [
    {
     "name": "stdout",
     "output_type": "stream",
     "text": [
      "alciphron or the minute philosopher defence of the christian religion against the so called free thinkers george berkeley contents first dialogue free thinking and the general good second dialogue the ethics of mandeville third dialogue the ethics of shaftesbury fourth dialogue the truth of theism fifth dialogue the utility of christianity sixth dialogue the truth of christianity seventh dialogue the truth of christianity want to consider the various things that free thinker can be atheist libertine fanatic scorner critic metaphysician fatalist sceptic but you shouldn think that according to me every individual free thinker is all of these all am saying is that each item on that list characterizes some freethinkers you may think that no free thinker is an atheist it has often been said that although there are admittedly some atheists who claim to be philosophical theorists no one is really an atheist as matter of philosophical theory know these things are said but am well assured that one of the most noted writers against christianity in our times claims to have discovered demonstration knock down proof that there is no god if you take the trouble to consult conversation and books to inform yourself about the principles and tenets of our modern free thinkers sure you ll find that every item on my list is true to life am not writing only against books don think that the free thinking authors are being misrepresented if every notion of alciphron or lysicles is not found precisely in what the authors have written we can expect that man in private conversation will speak more openly than others write to improve on the hints given by authors of books and draw conclusions from their principles whatever they may claim believe that all those who write either explicitly or by insinuation against the dignity freedom and immortality of the human soul can on that account be fairly accused of unsettling the principles of morality and destroying the means of making men rationally\n"
     ]
    }
   ],
   "source": [
    "# Remove white space\n",
    "B_AlcClean = re.sub(r'\\n',\" \",B_AlcRom)\n",
    "\n",
    "# Remove all numbers\n",
    "B_AlcClean = re.sub(r'[0-9].*?',\" \",B_AlcClean)\n",
    "\n",
    "# Remove single letters\n",
    "B_AlcClean = re.sub(r'\\b[a-zA-Z]\\b',\" \",B_AlcClean)\n",
    "\n",
    "# Remove double spaces +\n",
    "B_AlcClean = re.sub(r'\\s\\s+',\" \",B_AlcClean)\n",
    "\n",
    "# Lowercase\n",
    "B_AlcClean = B_AlcClean.lower()\n",
    "\n",
    "print(B_AlcClean[:2000])"
   ]
  },
  {
   "cell_type": "code",
   "execution_count": 111,
   "metadata": {},
   "outputs": [],
   "source": [
    "# Lemmatization function\n",
    "def Lemmatize(text):\n",
    "    # Tokenize text\n",
    "    text = nltk.word_tokenize(text)\n",
    "    \n",
    "    # Empty variable\n",
    "    textLemma = []\n",
    "    \n",
    "    # Lemmatize words and append to list\n",
    "    for word in text:\n",
    "        wordLemma = wordnet_lemmatizer.lemmatize(word, 'v')\n",
    "        textLemma.append(wordLemma)\n",
    "    \n",
    "    # Convert back to string for saving\n",
    "    text = \" \".join(textLemma)\n",
    "    \n",
    "    return text;\n",
    "\n",
    "# Save the lemmatization in a variable\n",
    "B_AlcClean = Lemmatize(B_AlcClean)"
   ]
  },
  {
   "cell_type": "code",
   "execution_count": 112,
   "metadata": {},
   "outputs": [
    {
     "name": "stdout",
     "output_type": "stream",
     "text": [
      "alciphron or the minute philosopher defence of the christian religion against the so call free thinkers george berkeley content first dialogue free think and the general good second dialogue the ethics of mandeville third dialogue the ethics of shaftesbury fourth dialogue the truth of theism fifth dialogue the utility of christianity sixth dialogue the truth of christianity seventh dialogue the truth of christianity want to consider the various things that free thinker can be atheist libertine fanatic scorner critic metaphysician fatalist sceptic but you shouldn think that accord to me every individual free thinker be all of these all be say be that each item on that list characterize some freethinkers you may think that no free thinker be an atheist it have often be say that although there be admittedly some atheists who claim to be philosophical theorists no one be really an atheist as matter of philosophical theory know these things be say but be well assure that one of the most note writers against christianity in our time claim to have discover demonstration knock down proof that there be no god if you take the trouble to consult conversation and book to inform yourself about the principles and tenets of our modern free thinkers sure you ll find that every item on my list be true to life be not write only against book don think that the free think author be be misrepresent if every notion of alciphron or lysicles be not find precisely in what the author have write we can expect that man in private conversation will speak more openly than others write to improve on the hint give by author of book and draw conclusions from their principles whatever they may claim believe that all those who write either explicitly or by insinuation against the dignity freedom and immortality of the human soul can on that account be fairly accuse of unsettle the principles of morality and destroy the mean of make men rationally virtuous we can expect from that direction lot that be\n"
     ]
    }
   ],
   "source": [
    "# Test lemmatized output\n",
    "print(B_AlcClean[:2000])"
   ]
  },
  {
   "cell_type": "code",
   "execution_count": 113,
   "metadata": {},
   "outputs": [],
   "source": [
    "# Write out the clean version of the text file\n",
    "file = open(\"Clean/Berkeley_AlciphronCLEAN.txt\", \"w\", encoding=\"utf-8\") \n",
    "file.write(B_AlcClean) \n",
    "file.close() "
   ]
  },
  {
   "cell_type": "markdown",
   "metadata": {},
   "source": [
    "## \"A Treatise Concerning the Principles of Human Knowledge\", George Berkeley"
   ]
  },
  {
   "cell_type": "code",
   "execution_count": 114,
   "metadata": {},
   "outputs": [],
   "source": [
    "with open(\"CorpusComplete/Berkeley_HumanKnowledge.txt\", \"r\", encoding=\"utf-8\") as file:\n",
    "    B_HumKnow = file.read()"
   ]
  },
  {
   "cell_type": "code",
   "execution_count": 115,
   "metadata": {},
   "outputs": [],
   "source": [
    "# Remove page numbers\n",
    "B_HumKnowPage = re.sub(r'[0-9]|999\\n',\"\",B_HumKnow)"
   ]
  },
  {
   "cell_type": "code",
   "execution_count": 116,
   "metadata": {},
   "outputs": [],
   "source": [
    "# Remove Roman numerals\n",
    "B_HumKnowRom = re.sub(r'\\bM{0,4}(CM|CD|D?C{0,3})(XC|XL|L?X{0,3})(IX|IV|V?I{0,3})\\b\\.',\"\",B_HumKnowPage)\n",
    "\n",
    "# Remove all punctuation\n",
    "B_HumKnowRom = re.sub(r'[^\\w\\s]',\"\",B_HumKnowRom)"
   ]
  },
  {
   "cell_type": "code",
   "execution_count": 117,
   "metadata": {},
   "outputs": [
    {
     "name": "stdout",
     "output_type": "stream",
     "text": [
      "a treatise concerning the principles of human knowledge wherein the chief causes of error and difficulty in the sciences with the grounds of scepticism atheism and irreligion are inquired into first printed in the year to which are added three dialogues between hylas and philonous in opposition to scepticks and atheists first printed in the year both written by george berkeley a fellow of trinitycollege dublin london printed for jacob tonson introduction philosophy being nothing else but the study of wisdom and truth it may with reason be expected that those who have spent most time and pains in it should enjoy a greater calm and serenity of mind a greater clearness and evidence of knowledge and be less disturbed with doubts and difficulties than other men yet so it is we see the illiterate bulk of mankind that walk the highroad of plain common sense and are governed by the dictates of nature for the most part easy and undisturbed to them nothing thats familiar appears unaccountable or difficult to comprehend they complain not of any want of evidence in their senses and are out of all danger of becoming sceptics but no sooner do we depart from sense and instinct to follow the light of a superior principle to reason meditate and reflect on the nature of things but a thousand scruples spring up in our minds concerning those things which before we seemed fully to comprehend prejudices and errors of sense do from all parts discover themselves to our view and endeavouring to correct these by reason we are insensibly drawn into uncouth paradoxes difficulties and inconsistencies which multiply and grow upon us as we advance in speculation till at length having wanderd through many intricate mazes we find our selves just where we were or which is worse sit down in a forlorn scepticism the cause of this is thought to be the obscurity of things or the natural weakness and imperfection of our understandings it is said the faculties we have are few and those designed by nature \n"
     ]
    }
   ],
   "source": [
    "# Remove white space\n",
    "B_HumKnowClean = re.sub(r'\\n',\" \",B_HumKnowRom)\n",
    "\n",
    "# Remove double spaces +\n",
    "B_HumKnowClean = re.sub(r'\\s\\s+',\" \",B_HumKnowClean)\n",
    "\n",
    "# Lowercase\n",
    "B_HumKnowClean = B_HumKnowClean.lower()\n",
    "\n",
    "print(B_HumKnowClean[:2000])"
   ]
  },
  {
   "cell_type": "code",
   "execution_count": 118,
   "metadata": {},
   "outputs": [],
   "source": [
    "# Call the lemmatization function\n",
    "B_HumKnowClean = Lemmatize(B_HumKnowClean)"
   ]
  },
  {
   "cell_type": "code",
   "execution_count": 119,
   "metadata": {},
   "outputs": [
    {
     "name": "stdout",
     "output_type": "stream",
     "text": [
      "a treatise concern the principles of human knowledge wherein the chief cause of error and difficulty in the sciences with the ground of scepticism atheism and irreligion be inquire into first print in the year to which be add three dialogues between hylas and philonous in opposition to scepticks and atheists first print in the year both write by george berkeley a fellow of trinitycollege dublin london print for jacob tonson introduction philosophy be nothing else but the study of wisdom and truth it may with reason be expect that those who have spend most time and pain in it should enjoy a greater calm and serenity of mind a greater clearness and evidence of knowledge and be less disturb with doubt and difficulties than other men yet so it be we see the illiterate bulk of mankind that walk the highroad of plain common sense and be govern by the dictate of nature for the most part easy and undisturbed to them nothing thats familiar appear unaccountable or difficult to comprehend they complain not of any want of evidence in their sense and be out of all danger of become sceptics but no sooner do we depart from sense and instinct to follow the light of a superior principle to reason meditate and reflect on the nature of things but a thousand scruple spring up in our mind concern those things which before we seem fully to comprehend prejudice and errors of sense do from all part discover themselves to our view and endeavour to correct these by reason we be insensibly draw into uncouth paradoxes difficulties and inconsistencies which multiply and grow upon us as we advance in speculation till at length have wanderd through many intricate mazes we find our selves just where we be or which be worse sit down in a forlorn scepticism the cause of this be think to be the obscurity of things or the natural weakness and imperfection of our understand it be say the faculties we have be few and those design by nature for the support and comfort of life and not to penetrate into th\n"
     ]
    }
   ],
   "source": [
    "# Test lemmatized output\n",
    "print(B_HumKnowClean[:2000])"
   ]
  },
  {
   "cell_type": "code",
   "execution_count": 120,
   "metadata": {},
   "outputs": [],
   "source": [
    "# Write out the clean version of the text file\n",
    "file = open(\"Clean/Berkeley_HumanKnowledgeCLEAN.txt\", \"w\", encoding=\"utf-8\") \n",
    "file.write(B_HumKnowClean) \n",
    "file.close() "
   ]
  },
  {
   "cell_type": "markdown",
   "metadata": {},
   "source": [
    "## \"An Essay Towards a New Theory of Vision\", George Berkeley"
   ]
  },
  {
   "cell_type": "code",
   "execution_count": 121,
   "metadata": {},
   "outputs": [],
   "source": [
    "with open(\"CorpusComplete/Berkeley_TheoryOfVision.txt\", \"r\", encoding=\"utf-8\") as file:\n",
    "    B_TheoryOf = file.read()"
   ]
  },
  {
   "cell_type": "code",
   "execution_count": 122,
   "metadata": {},
   "outputs": [],
   "source": [
    "# Remove page numbers\n",
    "B_TheoryOfPage = re.sub(r'[0-9]|999\\n',\"\",B_TheoryOf)"
   ]
  },
  {
   "cell_type": "code",
   "execution_count": 123,
   "metadata": {},
   "outputs": [],
   "source": [
    "# Remove all punctuation\n",
    "B_TheoryOfRom = re.sub(r'[^\\w\\s]',\"\",B_TheoryOfPage)"
   ]
  },
  {
   "cell_type": "code",
   "execution_count": 124,
   "metadata": {},
   "outputs": [
    {
     "name": "stdout",
     "output_type": "stream",
     "text": [
      "an essay towards a new theory of vision by george berkeley contents sect design distance of itself invisible remote distance perceived rather by experience than by sense near distance thought to be perceived by the angle of the optic axes difference between this and the former manner of perceiving distance also by diverging rays this depends not on experience these the common accounts but not satisfactory some ideas perceived by the mediation of others no idea which is not itself perceived can be the means of perceiving another distance perceived by means of some other idea those lines and angles mentioned in optics are not themselves perceived hence the mind does not perceive distance by lines and angles also because they have no real existence and because they are insufficient to explain the phenomena the ideas that suggest distance are st the sensation arising from the turn of the eyes betwixt which and distance there is no necessary connection scarce room for mistake in this matter no regard had to the angle of the optic axes judgment of distance made with both eyes the result of experience ndly confusedness of appearance this the occasion of those judgments attributed to diverging rays objection answered what deceives the writers of optics in this matter the cause why one idea may suggest another this applied to confusion and distance thirrdly the straining of the eye the occasions which suggest distance have in their own nature no relation to it a difficult case proposed by dr barrow as repugnant to all the known theories this case contradicts a received principle in catoptrics it is shown to agree with the principles we have laid down this phenomenon illustrated it confirms the truth of the principle whereby it is explained vision when distinct and when confused the different effects of parallel diverging and converging rays how converging and diverging rays come to suggest the same distance a person extreme purblind would judge aright in the forementioned ca\n"
     ]
    }
   ],
   "source": [
    "# Remove white space\n",
    "B_TheoryOfClean = re.sub(r'\\n',\" \",B_TheoryOfRom)\n",
    "\n",
    "# Remove double spaces +\n",
    "B_TheoryOfClean = re.sub(r'\\s\\s+',\" \",B_TheoryOfClean)\n",
    "\n",
    "# Lowercase\n",
    "B_TheoryOfClean = B_TheoryOfClean.lower()\n",
    "\n",
    "print(B_TheoryOfClean[:2000])"
   ]
  },
  {
   "cell_type": "code",
   "execution_count": 125,
   "metadata": {},
   "outputs": [],
   "source": [
    "# Call the lemmatization function\n",
    "B_TheoryOfClean = Lemmatize(B_TheoryOfClean)"
   ]
  },
  {
   "cell_type": "code",
   "execution_count": 126,
   "metadata": {},
   "outputs": [
    {
     "name": "stdout",
     "output_type": "stream",
     "text": [
      "an essay towards a new theory of vision by george berkeley content sect design distance of itself invisible remote distance perceive rather by experience than by sense near distance think to be perceive by the angle of the optic ax difference between this and the former manner of perceive distance also by diverge ray this depend not on experience these the common account but not satisfactory some ideas perceive by the mediation of others no idea which be not itself perceive can be the mean of perceive another distance perceive by mean of some other idea those line and angle mention in optics be not themselves perceive hence the mind do not perceive distance by line and angle also because they have no real existence and because they be insufficient to explain the phenomena the ideas that suggest distance be st the sensation arise from the turn of the eye betwixt which and distance there be no necessary connection scarce room for mistake in this matter no regard have to the angle of the optic ax judgment of distance make with both eye the result of experience ndly confusedness of appearance this the occasion of those judgments attribute to diverge ray objection answer what deceive the writers of optics in this matter the cause why one idea may suggest another this apply to confusion and distance thirrdly the strain of the eye the occasion which suggest distance have in their own nature no relation to it a difficult case propose by dr barrow as repugnant to all the know theories this case contradict a receive principle in catoptrics it be show to agree with the principles we have lay down this phenomenon illustrate it confirm the truth of the principle whereby it be explain vision when distinct and when confuse the different effect of parallel diverge and converge ray how converge and diverge ray come to suggest the same distance a person extreme purblind would judge aright in the forementioned case line and angle why useful in optics the not understand this a cause of\n"
     ]
    }
   ],
   "source": [
    "# Test lemmatized output\n",
    "print(B_TheoryOfClean[:2000])"
   ]
  },
  {
   "cell_type": "code",
   "execution_count": 127,
   "metadata": {},
   "outputs": [],
   "source": [
    "# Write out the clean version of the text file\n",
    "file = open(\"Clean/Berkeley_TheoryOfVisionCLEAN.txt\", \"w\", encoding=\"utf-8\") \n",
    "file.write(B_TheoryOfClean) \n",
    "file.close() "
   ]
  },
  {
   "cell_type": "markdown",
   "metadata": {},
   "source": [
    "## \"Three Dialogues between Hylas and Philonous in opposition to Sceptics and Atheists\",  George Berkeley"
   ]
  },
  {
   "cell_type": "code",
   "execution_count": 128,
   "metadata": {},
   "outputs": [],
   "source": [
    "with open(\"CorpusComplete/Berkeley_ThreeDialogues.txt\", \"r\", encoding=\"utf-8\") as file:\n",
    "    B_ThreeDia = file.read()"
   ]
  },
  {
   "cell_type": "code",
   "execution_count": 129,
   "metadata": {},
   "outputs": [],
   "source": [
    "# Remove page numbers\n",
    "B_ThreeDiaPage = re.sub(r'[0-9]|999\\n',\"\",B_ThreeDia)"
   ]
  },
  {
   "cell_type": "code",
   "execution_count": 130,
   "metadata": {},
   "outputs": [],
   "source": [
    "# Remove header information\n",
    "B_ThreeDiaHead = re.sub(r'Three Dialogues George Berkeley First Dialogue',\"\",B_ThreeDiaPage)\n",
    "B_ThreeDiaHead = re.sub(r'Three Dialogues George Berkeley Second Dialogue',\"\",B_ThreeDiaHead)\n",
    "B_ThreeDiaHead = re.sub(r'Three Dialogues George Berkeley Third Dialogue',\"\",B_ThreeDiaHead)"
   ]
  },
  {
   "cell_type": "code",
   "execution_count": 131,
   "metadata": {},
   "outputs": [],
   "source": [
    "# Remove dialogue names\n",
    "B_ThreeDiaName = re.sub(r'Hyl:',\"\",B_ThreeDiaHead)\n",
    "B_ThreeDiaName = re.sub(r'Phil:',\"\",B_ThreeDiaName)"
   ]
  },
  {
   "cell_type": "code",
   "execution_count": 132,
   "metadata": {},
   "outputs": [],
   "source": [
    "# Remove weird dots\n",
    "B_ThreeDiaDot = re.sub(r'•',\"\",B_ThreeDiaName)\n",
    "B_ThreeDiaDot = re.sub(r'·',\"\",B_ThreeDiaDot)\n",
    "\n",
    "# Remove all punctuation\n",
    "B_ThreeDiaDot = re.sub(r'[^\\w\\s]',\"\",B_ThreeDiaDot)"
   ]
  },
  {
   "cell_type": "code",
   "execution_count": 133,
   "metadata": {},
   "outputs": [
    {
     "name": "stdout",
     "output_type": "stream",
     "text": [
      "three dialogues between hylas and philonous in opposition to sceptics and atheists george berkeley contents the first dialogue the second dialogue the third dialogue the first dialogue philonous good morning hylas i didnt expect to find you out and about so early hylas it is indeed somewhat unusual but my thoughts were so taken up with a subject i was talking about last night that i couldnt sleep so i decided to get up and walk in the garden thats good it gives you a chance to see what innocent and agreeable pleasures you lose every morning can there be a pleasanter time of the day or a more delightful season of the year that purple sky those wild but sweet notes of birds the fragrant bloom on the trees and flowers the gentle influence of the rising sun these and a thousand nameless beauties of nature inspire the soul with secret raptures but im afraid i am interrupting your thoughts for you seemed very intent on something yes i was and id be grateful if you would allow me to carry on with it but i dont in the least want to deprive myself of your company for my thoughts always flow more easily in conversation with a friend than when i am alone please may i share with you the thoughts i have been having with all my heart it is what i would have requested myself if you hadnt asked first i was considering the odd fate of those men who have in all ages through a desire to mark themselves off from the common people or through heaven knows what trick of their thought claimed either to believe nothing at all or to believe the most extravagant things in the world this wouldnt matter so much if their paradoxes and scepticism didnt bring consequences that are bad for mankind in general but theres a risk that they will do that and that when men who are thought to have spent their whole time in the pursuit of knowledge claim to be entirely ignorant of everything or advocate views that are in conflict with plain and commonly accepted principles this will tempt other peoplewho ha\n"
     ]
    }
   ],
   "source": [
    "# Remove white space\n",
    "B_ThreeDiaClean = re.sub(r'\\n',\" \",B_ThreeDiaDot)\n",
    "\n",
    "# Remove double spaces +\n",
    "B_ThreeDiaClean = re.sub(r'\\s\\s+',\" \",B_ThreeDiaClean)\n",
    "\n",
    "# Lowercase\n",
    "B_ThreeDiaClean = B_ThreeDiaClean.lower()\n",
    "\n",
    "print(B_ThreeDiaClean[:2000])"
   ]
  },
  {
   "cell_type": "code",
   "execution_count": 134,
   "metadata": {},
   "outputs": [],
   "source": [
    "# Call the lemmatization function\n",
    "B_ThreeDiaClean = Lemmatize(B_ThreeDiaClean)"
   ]
  },
  {
   "cell_type": "code",
   "execution_count": 135,
   "metadata": {},
   "outputs": [
    {
     "name": "stdout",
     "output_type": "stream",
     "text": [
      "three dialogues between hylas and philonous in opposition to sceptics and atheists george berkeley content the first dialogue the second dialogue the third dialogue the first dialogue philonous good morning hylas i didnt expect to find you out and about so early hylas it be indeed somewhat unusual but my thoughts be so take up with a subject i be talk about last night that i couldnt sleep so i decide to get up and walk in the garden thats good it give you a chance to see what innocent and agreeable pleasures you lose every morning can there be a pleasanter time of the day or a more delightful season of the year that purple sky those wild but sweet note of bird the fragrant bloom on the tree and flower the gentle influence of the rise sun these and a thousand nameless beauties of nature inspire the soul with secret raptures but im afraid i be interrupt your thoughts for you seem very intent on something yes i be and id be grateful if you would allow me to carry on with it but i dont in the least want to deprive myself of your company for my thoughts always flow more easily in conversation with a friend than when i be alone please may i share with you the thoughts i have be have with all my heart it be what i would have request myself if you hadnt ask first i be consider the odd fate of those men who have in all age through a desire to mark themselves off from the common people or through heaven know what trick of their think claim either to believe nothing at all or to believe the most extravagant things in the world this wouldnt matter so much if their paradoxes and scepticism didnt bring consequences that be bad for mankind in general but theres a risk that they will do that and that when men who be think to have spend their whole time in the pursuit of knowledge claim to be entirely ignorant of everything or advocate view that be in conflict with plain and commonly accept principles this will tempt other peoplewho have less leisure for this sort of thingto become \n"
     ]
    }
   ],
   "source": [
    "# Test lemmatized output\n",
    "print(B_ThreeDiaClean[:2000])"
   ]
  },
  {
   "cell_type": "code",
   "execution_count": 136,
   "metadata": {},
   "outputs": [],
   "source": [
    "# Write out the clean version of the text file\n",
    "file = open(\"Clean/Berkeley_ThreeDialoguesCLEAN.txt\", \"w\", encoding=\"utf-8\") \n",
    "file.write(B_ThreeDiaClean) \n",
    "file.close() "
   ]
  },
  {
   "cell_type": "markdown",
   "metadata": {},
   "source": [
    "## \"Essays Moral, Political, Literary\", David Hume"
   ]
  },
  {
   "cell_type": "code",
   "execution_count": 137,
   "metadata": {},
   "outputs": [],
   "source": [
    "with open(\"CorpusComplete/Hume_EssaysMoralPoliticalLiterary.txt\", \"r\", encoding=\"utf-8\") as file:\n",
    "    H_MPL = file.read()"
   ]
  },
  {
   "cell_type": "code",
   "execution_count": 138,
   "metadata": {},
   "outputs": [],
   "source": [
    "# Remove header information\n",
    "H_MPLPage = re.sub(r'Online Library of Liberty: Essays Moral, Political, Literary \\(LF ed.\\)',\"\",H_MPL)\n",
    "H_MPLPage = re.sub(r'PLL v6.0 \\(generated September, 2011\\) .*? http://oll.libertyfund.org/title/704',\"\",H_MPLPage)\n",
    "\n",
    "# Remove TOC link\n",
    "H_MPLPage = re.sub(r'\\[Back to Table of Contents\\]',\"\",H_MPLPage)"
   ]
  },
  {
   "cell_type": "code",
   "execution_count": 139,
   "metadata": {},
   "outputs": [],
   "source": [
    "# Remove all numbers\n",
    "H_MPLNum = re.sub(r'[0-9].*?',\"\",H_MPLPage)"
   ]
  },
  {
   "cell_type": "code",
   "execution_count": 140,
   "metadata": {},
   "outputs": [],
   "source": [
    "# Remove weird dots\n",
    "H_MPLDot = re.sub(r'°',\"\",H_MPLNum)\n",
    "\n",
    "# Remove all punctuation\n",
    "H_MPLDot = re.sub(r'[^\\w\\s]',\"\",H_MPLDot)"
   ]
  },
  {
   "cell_type": "code",
   "execution_count": 141,
   "metadata": {},
   "outputs": [
    {
     "name": "stdout",
     "output_type": "stream",
     "text": [
      "david hume essays moral political literary lf ed part essays moral political and literary essay of the delicacy of taste and passion essay of the liberty of the press essay that politics may be reduced to a science essay of the first principles of government essay of the origin of government essay of the independency of parliament essay whether the british government inclines more to absolute monarchy or to a republic essay of parties in general essay of the parties of great britain essay of superstition and enthusiasm essay of the dignity or meanness of human nature essay of civil liberty essay of eloquence essay of the rise and progress of the arts and sciences essay the epicurean essay the stoic essay the platonist essay the sceptic essay of polygamy and divorces essay of simplicity and refinement in writing essay of national characters essay of tragedy essay of the standard of taste part essays moral political and literary essay of commerce essay of refinement in the arts essay of money essay of interest essay of the balance of trade essay of the jealousy of trade essay of the balance of power essay of taxes essay of public credit essay of some remarkable customs essay of the populousness of ancient nations essay of the original contract essay of passive obedience essay of the coalition of parties essay of the protestant succession essay idea of a perfect commonwealth essays withdrawn and unpublished essay of essaywriting essay of moral prejudices essay of the middle station of life essay of impudence and modesty essay of love and marriage essay of the study of history essay of avarice essay a character of sir robert walpole essay of suicide essay of the immortality of the soul variant readings variant readings to part variant readings to part ii variant readings to essays withdrawn and unpublished glossary the life of david hume esq written by himself my own life it is difficult for a man to speak long of himself without vanity therefore shall be short it may b\n"
     ]
    }
   ],
   "source": [
    "# Remove white space\n",
    "H_MPLClean = re.sub(r'\\n',\" \",H_MPLDot)\n",
    "\n",
    "# Remove Roman numerals\n",
    "H_MPLClean = re.sub(r'\\b[IVXLCDM]+\\b',\"\",H_MPLClean)\n",
    "\n",
    "# Remove double spaces +\n",
    "H_MPLClean = re.sub(r'\\s\\s+',\" \",H_MPLClean)\n",
    "\n",
    "# Lowercase\n",
    "H_MPLClean = H_MPLClean.lower()\n",
    "\n",
    "print(H_MPLClean[:2000])"
   ]
  },
  {
   "cell_type": "code",
   "execution_count": 142,
   "metadata": {},
   "outputs": [],
   "source": [
    "# Call the lemmatization function\n",
    "H_MPLClean = Lemmatize(H_MPLClean)"
   ]
  },
  {
   "cell_type": "code",
   "execution_count": 143,
   "metadata": {},
   "outputs": [
    {
     "name": "stdout",
     "output_type": "stream",
     "text": [
      "david hume essay moral political literary lf ed part essay moral political and literary essay of the delicacy of taste and passion essay of the liberty of the press essay that politics may be reduce to a science essay of the first principles of government essay of the origin of government essay of the independency of parliament essay whether the british government incline more to absolute monarchy or to a republic essay of party in general essay of the party of great britain essay of superstition and enthusiasm essay of the dignity or meanness of human nature essay of civil liberty essay of eloquence essay of the rise and progress of the arts and sciences essay the epicurean essay the stoic essay the platonist essay the sceptic essay of polygamy and divorce essay of simplicity and refinement in write essay of national character essay of tragedy essay of the standard of taste part essay moral political and literary essay of commerce essay of refinement in the arts essay of money essay of interest essay of the balance of trade essay of the jealousy of trade essay of the balance of power essay of tax essay of public credit essay of some remarkable customs essay of the populousness of ancient nations essay of the original contract essay of passive obedience essay of the coalition of party essay of the protestant succession essay idea of a perfect commonwealth essay withdraw and unpublished essay of essaywriting essay of moral prejudice essay of the middle station of life essay of impudence and modesty essay of love and marriage essay of the study of history essay of avarice essay a character of sir robert walpole essay of suicide essay of the immortality of the soul variant read variant read to part variant read to part ii variant read to essay withdraw and unpublished glossary the life of david hume esq write by himself my own life it be difficult for a man to speak long of himself without vanity therefore shall be short it may be think an instance of vanity that prete\n"
     ]
    }
   ],
   "source": [
    "# Test lemmatized output\n",
    "print(H_MPLClean[:2000])"
   ]
  },
  {
   "cell_type": "code",
   "execution_count": 144,
   "metadata": {},
   "outputs": [],
   "source": [
    "# Write out the clean version of the text file\n",
    "file = open(\"Clean/Hume_EssaysMoralPoliticalLiteraryCLEAN.txt\", \"w\", encoding=\"utf-8\") \n",
    "file.write(H_MPLClean) \n",
    "file.close() "
   ]
  },
  {
   "cell_type": "markdown",
   "metadata": {},
   "source": [
    "## \"An Enquiry Concerning Human Understanding\", David Hume"
   ]
  },
  {
   "cell_type": "code",
   "execution_count": 145,
   "metadata": {},
   "outputs": [],
   "source": [
    "with open(\"CorpusComplete/Hume_HumanUnderstanding.txt\", \"r\", encoding=\"utf-8\") as file:\n",
    "    H_HumUnd = file.read()"
   ]
  },
  {
   "cell_type": "code",
   "execution_count": 146,
   "metadata": {},
   "outputs": [],
   "source": [
    "# Remove header information\n",
    "H_HumUndPage = re.sub(r'[0-9]/David Hume',\"\",H_HumUnd)\n",
    "H_HumUndPage = re.sub(r'Enquiry Concerning Human Understanding/[0-9]',\"\",H_HumUndPage)"
   ]
  },
  {
   "cell_type": "code",
   "execution_count": 147,
   "metadata": {},
   "outputs": [],
   "source": [
    "# Remove all numbers\n",
    "H_HumUndNum = re.sub(r'[0-9].*?',\"\",H_HumUndPage)"
   ]
  },
  {
   "cell_type": "code",
   "execution_count": 148,
   "metadata": {},
   "outputs": [],
   "source": [
    "# Remove all punctuation\n",
    "H_HumUndDot = re.sub(r'[^\\w\\s]',\"\",H_HumUndNum)"
   ]
  },
  {
   "cell_type": "code",
   "execution_count": 149,
   "metadata": {},
   "outputs": [
    {
     "name": "stdout",
     "output_type": "stream",
     "text": [
      "an enquiry concerning human understanding david hume contents sect of the different species of philosophy sect of the origin of ideas sect of the association of ideas sect sceptical doubts concerning the operations of the understanding sect sceptical solution of these doubts sect of probability sect of the idea of necessary connexion sect of liberty and necessity sect of the reason of animals sect of miracles sect of a particular providence and of a future state sect of the academical or sceptical philosophy notes sect of the different species of philosophy moral philosophy or the science of human nature may be treated after two different manners each of which has its peculiar merit and may contribute to the entertainment instruction and reformation of mankind the one considers man chiefly as born for action and as influenced in his measures by taste and sentiment pursuing one object and avoiding another according to the value which these objects seem to possess and according to the light in which they present themselves as virtue of all objects is allowed to be the most valuable this species of philosophers paint her in the most amiable colours borrowing all helps from poetry and eloquence and treating their subject in an easy and obvious manner and such as is best fitted to please the imagination and engage the affections they select the most striking observations and instances from common life place opposite characters in a proper contrast and alluring us into the paths of virtue by the views of glory and happiness direct our steps in these paths by the soundest precepts and most illustrious examples they make us feel the difference between vice and virtue they excite and regulate our sentiments and so they can but bend our hearts to the love of probity and true honour they think that they have fully attained the end of all their labours the other species of philosophers considers man in the light of a reasonable rather than an active being and endeavours to form\n"
     ]
    }
   ],
   "source": [
    "# Remove white space\n",
    "H_HumUndClean = re.sub(r'\\n',\" \",H_HumUndDot)\n",
    "\n",
    "# Remove Roman numerals\n",
    "H_HumUndClean = re.sub(r'\\b[IVXLCDM]+\\b',\"\",H_HumUndClean)\n",
    "\n",
    "# Remove double spaces +\n",
    "H_HumUndClean = re.sub(r'\\s\\s+',\" \",H_HumUndClean)\n",
    "\n",
    "# Lowercase\n",
    "H_HumUndClean = H_HumUndClean.lower()\n",
    "\n",
    "print(H_HumUndClean[:2000])"
   ]
  },
  {
   "cell_type": "code",
   "execution_count": 150,
   "metadata": {},
   "outputs": [],
   "source": [
    "# Call the lemmatization function\n",
    "H_HumUndClean = Lemmatize(H_HumUndClean)"
   ]
  },
  {
   "cell_type": "code",
   "execution_count": 151,
   "metadata": {},
   "outputs": [
    {
     "name": "stdout",
     "output_type": "stream",
     "text": [
      "an enquiry concern human understand david hume content sect of the different species of philosophy sect of the origin of ideas sect of the association of ideas sect sceptical doubt concern the operations of the understand sect sceptical solution of these doubt sect of probability sect of the idea of necessary connexion sect of liberty and necessity sect of the reason of animals sect of miracles sect of a particular providence and of a future state sect of the academical or sceptical philosophy note sect of the different species of philosophy moral philosophy or the science of human nature may be treat after two different manners each of which have its peculiar merit and may contribute to the entertainment instruction and reformation of mankind the one consider man chiefly as bear for action and as influence in his measure by taste and sentiment pursue one object and avoid another accord to the value which these object seem to possess and accord to the light in which they present themselves as virtue of all object be allow to be the most valuable this species of philosophers paint her in the most amiable colour borrow all help from poetry and eloquence and treat their subject in an easy and obvious manner and such as be best fit to please the imagination and engage the affections they select the most strike observations and instance from common life place opposite character in a proper contrast and allure us into the paths of virtue by the view of glory and happiness direct our step in these paths by the soundest precepts and most illustrious examples they make us feel the difference between vice and virtue they excite and regulate our sentiments and so they can but bend our hearts to the love of probity and true honour they think that they have fully attain the end of all their labour the other species of philosophers consider man in the light of a reasonable rather than an active be and endeavour to form his understand more than cultivate his manners they regard hu\n"
     ]
    }
   ],
   "source": [
    "# Test lemmatized output\n",
    "print(H_HumUndClean[:2000])"
   ]
  },
  {
   "cell_type": "code",
   "execution_count": 152,
   "metadata": {},
   "outputs": [],
   "source": [
    "# Write out the clean version of the text file\n",
    "file = open(\"Clean/Hume_HumanUnderstandingCLEAN.txt\", \"w\", encoding=\"utf-8\") \n",
    "file.write(H_HumUndClean) \n",
    "file.close() "
   ]
  },
  {
   "cell_type": "markdown",
   "metadata": {},
   "source": [
    "## \"Dialogues Concerning Natural Religion\", David Hume"
   ]
  },
  {
   "cell_type": "code",
   "execution_count": 153,
   "metadata": {},
   "outputs": [],
   "source": [
    "with open(\"CorpusComplete/Hume_NaturalReligion.txt\", \"r\", encoding=\"utf-8\") as file:\n",
    "    H_NatRel = file.read()"
   ]
  },
  {
   "cell_type": "code",
   "execution_count": 154,
   "metadata": {},
   "outputs": [],
   "source": [
    "# Remove header information\n",
    "H_NatRelPage = re.sub(r'Dialogues concerning Natural Religion David Hume Part [0-9]',\"\",H_NatRel)"
   ]
  },
  {
   "cell_type": "code",
   "execution_count": 155,
   "metadata": {},
   "outputs": [],
   "source": [
    "# Remove \"Part\" information\n",
    "H_NatRelNum = re.sub(r'Part [0-9].*?',\"\",H_NatRelPage)\n",
    "\n",
    "# Remove all numbers\n",
    "H_NatRelNum = re.sub(r'[0-9].*?',\"\",H_NatRelNum)"
   ]
  },
  {
   "cell_type": "code",
   "execution_count": 156,
   "metadata": {},
   "outputs": [],
   "source": [
    "# Remove weird dots\n",
    "H_NatRelDot = re.sub(r'•',\"\",H_NatRelNum)\n",
    "H_NatRelDot = re.sub(r'·',\"\",H_NatRelDot)\n",
    "\n",
    "# Remove all punctuation\n",
    "H_NatRelDot = re.sub(r'[^\\w\\s]',\"\",H_NatRelDot)"
   ]
  },
  {
   "cell_type": "code",
   "execution_count": 157,
   "metadata": {},
   "outputs": [
    {
     "name": "stdout",
     "output_type": "stream",
     "text": [
      "dialogues concerning natural religion david hume contents letter from pamphilus to hermippus dialogues concerning natural religion david hume dialogues concerning natural religion david hume pamphilus to hermippus letter from pamphilus to hermippus it has been remarked that though the ancient philosophers mostly taught through dialogues the dialogue form hasnt been much used in recent times and has seldom succeeded when people have tried it there is a good reason for this philosophical enquirers these days are expected to produce precise and orderly arguments and someone aiming at those will naturally proceed with a methodical exposition in which he can right at the outset explain the point he wants to establish and then proceed without interruption to present his proofs of it it hardly seems natural to present a system in conversation and there is also another disadvantage of the dialogue form by departing from the direct style of composition the dialoguewriter hopes to give a freer air to his performance and to avoid the appearance of author and reader but he risks running into something worse conveying the image of teacher and pupil and if he avoids that by conducting the dispute in the natural spirit of good company throwing in a variety of arguments and preserving a proper balance among the speakers he often spends so much time setting things up and moving from one line of thought to another that the reader will hardly think that the order brevity and precision which have been lost are made up for by all the graces of dialogue there are some subjects however for which dialoguewriting is especially suitable and preferable to the direct and simple method of composition i shall describe two of them apart from their suitability for the dialogue form they are utterly unalike though it will turn out that one big topic includes both any point of doctrine that is so obvious that it can hardly be questioned but at the same time so important that it deserves to be taught\n"
     ]
    }
   ],
   "source": [
    "# Remove white space\n",
    "H_NatRelClean = re.sub(r'\\n',\" \",H_NatRelDot)\n",
    "\n",
    "# Remove double spaces +\n",
    "H_NatRelClean = re.sub(r'\\s\\s+',\" \",H_NatRelClean)\n",
    "\n",
    "# Lowercase\n",
    "H_NatRelClean = H_NatRelClean.lower()\n",
    "\n",
    "print(H_NatRelClean[:2000])"
   ]
  },
  {
   "cell_type": "code",
   "execution_count": 158,
   "metadata": {},
   "outputs": [],
   "source": [
    "# Call the lemmatization function\n",
    "H_NatRelClean = Lemmatize(H_NatRelClean)"
   ]
  },
  {
   "cell_type": "code",
   "execution_count": 159,
   "metadata": {},
   "outputs": [
    {
     "name": "stdout",
     "output_type": "stream",
     "text": [
      "dialogues concern natural religion david hume content letter from pamphilus to hermippus dialogues concern natural religion david hume dialogues concern natural religion david hume pamphilus to hermippus letter from pamphilus to hermippus it have be remark that though the ancient philosophers mostly teach through dialogues the dialogue form hasnt be much use in recent time and have seldom succeed when people have try it there be a good reason for this philosophical enquirers these days be expect to produce precise and orderly arguments and someone aim at those will naturally proceed with a methodical exposition in which he can right at the outset explain the point he want to establish and then proceed without interruption to present his proof of it it hardly seem natural to present a system in conversation and there be also another disadvantage of the dialogue form by depart from the direct style of composition the dialoguewriter hop to give a freer air to his performance and to avoid the appearance of author and reader but he risk run into something worse convey the image of teacher and pupil and if he avoid that by conduct the dispute in the natural spirit of good company throw in a variety of arguments and preserve a proper balance among the speakers he often spend so much time set things up and move from one line of think to another that the reader will hardly think that the order brevity and precision which have be lose be make up for by all the grace of dialogue there be some subject however for which dialoguewriting be especially suitable and preferable to the direct and simple method of composition i shall describe two of them apart from their suitability for the dialogue form they be utterly unalike though it will turn out that one big topic include both any point of doctrine that be so obvious that it can hardly be question but at the same time so important that it deserve to be teach repeatedly seem to require some such method of handle it in a dialogue t\n"
     ]
    }
   ],
   "source": [
    "# Test lemmatized output\n",
    "print(H_NatRelClean[:2000])"
   ]
  },
  {
   "cell_type": "code",
   "execution_count": 160,
   "metadata": {},
   "outputs": [],
   "source": [
    "# Write out the clean version of the text file\n",
    "file = open(\"Clean/Hume_NaturalReligionCLEAN.txt\", \"w\", encoding=\"utf-8\") \n",
    "file.write(H_NatRelClean) \n",
    "file.close() "
   ]
  },
  {
   "cell_type": "markdown",
   "metadata": {},
   "source": [
    "## \"An Enquiry into the Sources of Morals\", David Hume"
   ]
  },
  {
   "cell_type": "code",
   "execution_count": 161,
   "metadata": {},
   "outputs": [],
   "source": [
    "with open(\"CorpusComplete/Hume_SourcesofMorals.txt\", \"r\", encoding=\"utf-8\") as file:\n",
    "    H_SourceOf = file.read()"
   ]
  },
  {
   "cell_type": "code",
   "execution_count": 162,
   "metadata": {},
   "outputs": [],
   "source": [
    "# Remove header information\n",
    "# Was able to locate this information from the TOC\n",
    "H_SourceOfPage = re.sub(r'Sources of Morals David Hume 1: General sources of morals',\"\",H_SourceOf)\n",
    "H_SourceOfPage = re.sub(r'Sources of Morals David Hume 2: Benevolence',\"\",H_SourceOfPage)\n",
    "H_SourceOfPage = re.sub(r'Sources of Morals David Hume 3: Justice',\"\",H_SourceOfPage)\n",
    "H_SourceOfPage = re.sub(r'Sources of Morals David Hume 4: Political society',\"\",H_SourceOfPage)\n",
    "H_SourceOfPage = re.sub(r'Sources of Morals David Hume 5: Why utility pleases',\"\",H_SourceOfPage)\n",
    "H_SourceOfPage = re.sub(r'Sources of Morals David Hume 6: Qualities useful to ourselves',\"\",H_SourceOfPage)\n",
    "H_SourceOfPage = re.sub(r'Sources of Morals David Hume 7: Qualities immediately agreeable to ourselves',\"\",H_SourceOfPage)\n",
    "H_SourceOfPage = re.sub(r'Sources of Morals David Hume 8. Qualities immediately agreeable to others',\"\",H_SourceOfPage)\n",
    "H_SourceOfPage = re.sub(r'Sources of Morals David Hume 9: Conclusion',\"\",H_SourceOfPage)\n",
    "H_SourceOfPage = re.sub(r'Sources of Morals David Hume Appendix 1. Moral sentiment',\"\",H_SourceOfPage)\n",
    "H_SourceOfPage = re.sub(r'Sources of Morals David Hume Appendix 2. Self-love',\"\",H_SourceOfPage)\n",
    "H_SourceOfPage = re.sub(r'Sources of Morals David Hume Appendix 3. More about justice',\"\",H_SourceOfPage)\n",
    "H_SourceOfPage = re.sub(r'Sources of Morals David Hume Appendix 4. Verbal disputes',\"\",H_SourceOfPage)"
   ]
  },
  {
   "cell_type": "code",
   "execution_count": 163,
   "metadata": {},
   "outputs": [],
   "source": [
    "# Remove \"Section\" + \"Part\" information\n",
    "H_SourceOfNum = re.sub(r'Section [0-9].*?',\"\",H_SourceOfPage)\n",
    "H_SourceOfNum = re.sub(r'Part [0-9].*?',\"\",H_SourceOfNum)\n",
    "\n",
    "# Remove all numbers\n",
    "H_SourceOfNum = re.sub(r'[0-9].*?',\"\",H_SourceOfNum)"
   ]
  },
  {
   "cell_type": "code",
   "execution_count": 164,
   "metadata": {},
   "outputs": [],
   "source": [
    "# Remove weird dots\n",
    "H_SourceOfDot = re.sub(r'•',\"\",H_SourceOfNum)\n",
    "H_SourceOfDot = re.sub(r'·',\"\",H_SourceOfDot)\n",
    "\n",
    "# Remove all punctuation\n",
    "H_SourceOfDot = re.sub(r'[^\\w\\s]',\"\",H_SourceOfDot)"
   ]
  },
  {
   "cell_type": "code",
   "execution_count": 165,
   "metadata": {},
   "outputs": [
    {
     "name": "stdout",
     "output_type": "stream",
     "text": [
      "an enquiry into the sources of morals david hume sources of morals david hume contents the general sources of morals benevolence justice political society why utility pleases qualities useful to ourselves qualities immediately agreeable to ourselves qualities immediately agreeable to others conclusion appendix moral sentiment or feeling appendix selflove appendix further points about justice appendix some verbal disputes most of the principles and reasonings contained in this volume were published in a work in three volumes called a treatise of human nature a work which the author had projected before he left college and which he wrote and published soon after it wasnt a success and he came to realize that he had gone to the press too early so he reworked the whole thing in the following pieces in which he hopes to have corrected some faults in his earlier reasoning and more in his writing the enquiry concerning human understanding the dissertation on the passions and the present work were published in one volume yet several writers who have honoured the authors philosophy with answers have taken care to aim all their guns at that juvenile work which the author has never acknowledged and have gloated over victories that they imagined they had won against it that is dishonest and unfair and a striking example of the polemical tricks that a bigoted zeal thinks it is entitled to employ from now on the author wants the following pieces to be regarded as the only source for his philosophical sentiments and principles in humes day a sentiment could be a viewopinionbelief or a feeling why not replace each occurrence of sentiment by belief or by feeling as is appropriate in the given context for two reasons hume sometimes seems to make sentiment sprawl across both its meanings some things that many people regard as beliefs are in humes view really feelings and with a given occurrence of sentiment its not always clear how far he means to be showing his hand just there so in \n"
     ]
    }
   ],
   "source": [
    "# Remove white space\n",
    "H_SourceOfClean = re.sub(r'\\n',\" \",H_SourceOfDot)\n",
    "\n",
    "# Remove double spaces +\n",
    "H_SourceOfClean = re.sub(r'\\s\\s+',\" \",H_SourceOfClean)\n",
    "\n",
    "# Lowercase\n",
    "H_SourceOfClean = H_SourceOfClean.lower()\n",
    "\n",
    "print(H_SourceOfClean[:2000])"
   ]
  },
  {
   "cell_type": "code",
   "execution_count": 166,
   "metadata": {},
   "outputs": [],
   "source": [
    "# Call the lemmatization function\n",
    "H_SourceOfClean = Lemmatize(H_SourceOfClean)"
   ]
  },
  {
   "cell_type": "code",
   "execution_count": 167,
   "metadata": {},
   "outputs": [
    {
     "name": "stdout",
     "output_type": "stream",
     "text": [
      "an enquiry into the source of morals david hume source of morals david hume content the general source of morals benevolence justice political society why utility please qualities useful to ourselves qualities immediately agreeable to ourselves qualities immediately agreeable to others conclusion appendix moral sentiment or feel appendix selflove appendix further point about justice appendix some verbal dispute most of the principles and reason contain in this volume be publish in a work in three volumes call a treatise of human nature a work which the author have project before he leave college and which he write and publish soon after it wasnt a success and he come to realize that he have go to the press too early so he rework the whole thing in the follow piece in which he hop to have correct some fault in his earlier reason and more in his write the enquiry concern human understand the dissertation on the passions and the present work be publish in one volume yet several writers who have honour the author philosophy with answer have take care to aim all their gun at that juvenile work which the author have never acknowledge and have gloat over victories that they imagine they have win against it that be dishonest and unfair and a strike example of the polemical trick that a bigoted zeal think it be entitle to employ from now on the author want the follow piece to be regard as the only source for his philosophical sentiments and principles in hum day a sentiment could be a viewopinionbelief or a feel why not replace each occurrence of sentiment by belief or by feel as be appropriate in the give context for two reason hume sometimes seem to make sentiment sprawl across both its mean some things that many people regard as beliefs be in hum view really feel and with a give occurrence of sentiment its not always clear how far he mean to be show his hand just there so in this version sentiment be never replace in case whereas on page it be both sure and important that\n"
     ]
    }
   ],
   "source": [
    "# Test lemmatized output\n",
    "print(H_SourceOfClean[:2000])"
   ]
  },
  {
   "cell_type": "code",
   "execution_count": 168,
   "metadata": {},
   "outputs": [],
   "source": [
    "# Write out the clean version of the text file\n",
    "file = open(\"Clean/Hume_SourcesofMoralsCLEAN.txt\", \"w\", encoding=\"utf-8\") \n",
    "file.write(H_SourceOfClean) \n",
    "file.close() "
   ]
  },
  {
   "cell_type": "markdown",
   "metadata": {},
   "source": [
    "## \"An Essay Concerning Human Understanding\", John Locke "
   ]
  },
  {
   "cell_type": "code",
   "execution_count": 169,
   "metadata": {},
   "outputs": [],
   "source": [
    "with open(\"CorpusComplete/Locke_HumanUnderstanding.txt\", \"r\", encoding=\"utf-8\") as file:\n",
    "    L_HumUnd = file.read()"
   ]
  },
  {
   "cell_type": "code",
   "execution_count": 170,
   "metadata": {},
   "outputs": [],
   "source": [
    "# Remove header information\n",
    "L_HumUndPage = re.sub(r'[0-9]\\nJohn Locke',\"\",L_HumUnd)\n",
    "L_HumUndPage = re.sub(r'[0-9]\\nHuman Understanding',\"\",L_HumUndPage)"
   ]
  },
  {
   "cell_type": "code",
   "execution_count": 171,
   "metadata": {},
   "outputs": [],
   "source": [
    "# Remove TOC/Chapter Information\n",
    "L_HumUndTOC = re.sub(r'INTRODUCTION',\"\",L_HumUndPage)\n",
    "L_HumUndTOC = re.sub(r'BOOK (M{1,4}(CM|CD|D?C{0,3})(XC|XL|L?X{0,3})(IX|IV|V?I{0,3})|M{0,4}(CM|C?D|D?C{1,3})(XC|XL|L?X{0,3})(IX|IV|V?I{0,3})|M{0,4}(CM|CD|D?C{0,3})(XC|X?L|L?X{1,3})(IX|IV|V?I{0,3})|M{0,4}(CM|CD|D?C{0,3})(XC|XL|L?X{0,3})(IX|I?V|V?I{1,3}))',\"\",L_HumUndTOC)\n",
    "L_HumUndTOC = re.sub(r'Chapter (M{1,4}(CM|CD|D?C{0,3})(XC|XL|L?X{0,3})(IX|IV|V?I{0,3})|M{0,4}(CM|C?D|D?C{1,3})(XC|XL|L?X{0,3})(IX|IV|V?I{0,3})|M{0,4}(CM|CD|D?C{0,3})(XC|X?L|L?X{1,3})(IX|IV|V?I{0,3})|M{0,4}(CM|CD|D?C{0,3})(XC|XL|L?X{0,3})(IX|I?V|V?I{1,3}))',\"\",L_HumUndTOC)"
   ]
  },
  {
   "cell_type": "code",
   "execution_count": 172,
   "metadata": {},
   "outputs": [],
   "source": [
    "# Remove all numbers\n",
    "L_HumUndNum = re.sub(r'[0-9].*?',\"\",L_HumUndTOC)"
   ]
  },
  {
   "cell_type": "code",
   "execution_count": 173,
   "metadata": {},
   "outputs": [
    {
     "name": "stdout",
     "output_type": "stream",
     "text": [
      "an essay concerning human understanding by john locke contents an essay concerning human understanding epistle to the reader neither principles nor ideas are innate no innate speculative principles no innate practical principles other considerations concerning innate principles both speculative and practical of ideas of ideas in general and their original of simple ideas of simple ideas of sense idea of solidity of simple ideas of divers senses i of simple ideas of reflection ii of simple ideas of both sensation and reflection iii some further considerations concerning our simple ideas of sensation of perception of retention of discerning and other operations of the mind of complex ideas complex ideas of simple modesand first of the simple modes of the idea of space idea of duration and its simple modes ideas of duration and expansion considered together idea of number of infinity other simple modes of the modes of thinking of modes of pleasure and pain of power of mixed modes of our complex ideas of substances of collective ideas of substances of relation of cause and effect and other relations of identity and diversity of other relations of clear and obscure distinct and confused ideas of real and fantastical ideas of adequate and inadequate ideas of true and false ideas of the association of ideas of words of words or language in general of the signification of words of general terms of the names of simple ideas of the names of mixed modes and relations i of the names of substances ii of particles iii of abstract and concrete terms of the imperfection of words of the abuse of words of the remedies of the foregoing imperfections and abuses of words of knowledge and probability of knowledge in general of the degrees of our knowledge of the extent of human knowledge of the reality of knowledge of truth in general i of universal propositions their truth and certainty ii of maxims iii of trifling propositions of our threefold knowledge of existence of our knowledge of\n"
     ]
    }
   ],
   "source": [
    "# Remove all punctuation\n",
    "L_HumUndDot = re.sub(r'[^\\w\\s]',\"\",L_HumUndNum)\n",
    "\n",
    "# Remove white space\n",
    "L_HumUndClean = re.sub(r'\\n',\" \",L_HumUndDot)\n",
    "\n",
    "# Remove double spaces +\n",
    "L_HumUndClean = re.sub(r'\\s\\s+',\" \",L_HumUndClean)\n",
    "\n",
    "# Lowercase\n",
    "L_HumUndClean = L_HumUndClean.lower()\n",
    "\n",
    "print(L_HumUndClean[:2000])"
   ]
  },
  {
   "cell_type": "code",
   "execution_count": 174,
   "metadata": {},
   "outputs": [],
   "source": [
    "# Call the lemmatization function\n",
    "L_HumUndClean = Lemmatize(L_HumUndClean)"
   ]
  },
  {
   "cell_type": "code",
   "execution_count": 175,
   "metadata": {},
   "outputs": [
    {
     "name": "stdout",
     "output_type": "stream",
     "text": [
      "an essay concern human understand by john locke content an essay concern human understand epistle to the reader neither principles nor ideas be innate no innate speculative principles no innate practical principles other considerations concern innate principles both speculative and practical of ideas of ideas in general and their original of simple ideas of simple ideas of sense idea of solidity of simple ideas of divers sense i of simple ideas of reflection ii of simple ideas of both sensation and reflection iii some further considerations concern our simple ideas of sensation of perception of retention of discern and other operations of the mind of complex ideas complex ideas of simple modesand first of the simple modes of the idea of space idea of duration and its simple modes ideas of duration and expansion consider together idea of number of infinity other simple modes of the modes of think of modes of pleasure and pain of power of mix modes of our complex ideas of substances of collective ideas of substances of relation of cause and effect and other relations of identity and diversity of other relations of clear and obscure distinct and confuse ideas of real and fantastical ideas of adequate and inadequate ideas of true and false ideas of the association of ideas of word of word or language in general of the signification of word of general term of the name of simple ideas of the name of mix modes and relations i of the name of substances ii of particles iii of abstract and concrete term of the imperfection of word of the abuse of word of the remedy of the forego imperfections and abuse of word of knowledge and probability of knowledge in general of the degrees of our knowledge of the extent of human knowledge of the reality of knowledge of truth in general i of universal proposition their truth and certainty ii of maxims iii of trifle proposition of our threefold knowledge of existence of our knowledge of the existence of a god of our knowledge of the existen\n"
     ]
    }
   ],
   "source": [
    "# Test lemmatized output\n",
    "print(L_HumUndClean[:2000])"
   ]
  },
  {
   "cell_type": "code",
   "execution_count": 176,
   "metadata": {},
   "outputs": [],
   "source": [
    "# Write out the clean version of the text file\n",
    "file = open(\"Clean/Locke_HumanUnderstandingCLEAN.txt\", \"w\", encoding=\"utf-8\") \n",
    "file.write(L_HumUndClean) \n",
    "file.close() "
   ]
  },
  {
   "cell_type": "markdown",
   "metadata": {},
   "source": [
    "## \"Two Treatises of Government\", John Locke"
   ]
  },
  {
   "cell_type": "code",
   "execution_count": 177,
   "metadata": {},
   "outputs": [],
   "source": [
    "with open(\"CorpusComplete/Locke_TwoTreatises.txt\", \"r\", encoding=\"utf-8\") as file:\n",
    "    L_TwoTrea = file.read()"
   ]
  },
  {
   "cell_type": "code",
   "execution_count": 178,
   "metadata": {},
   "outputs": [],
   "source": [
    "# Remove header information\n",
    "L_HumTwoTreaPage = re.sub(r'[0-9]/John Locke',\"\",L_TwoTrea)\n",
    "L_HumTwoTreaPage = re.sub(r'Two Treatises of Government/[0-9]',\"\",L_HumTwoTreaPage)"
   ]
  },
  {
   "cell_type": "code",
   "execution_count": 179,
   "metadata": {},
   "outputs": [],
   "source": [
    "# Remove Chapter Information\n",
    "L_HumTwoTreaCh = re.sub(r'§[0-9].',\"\",L_HumTwoTreaPage)\n",
    "L_HumTwoTreaCh = re.sub(r'Chapter (M{1,4}(CM|CD|D?C{0,3})(XC|XL|L?X{0,3})(IX|IV|V?I{0,3})|M{0,4}(CM|C?D|D?C{1,3})(XC|XL|L?X{0,3})(IX|IV|V?I{0,3})|M{0,4}(CM|CD|D?C{0,3})(XC|X?L|L?X{1,3})(IX|IV|V?I{0,3})|M{0,4}(CM|CD|D?C{0,3})(XC|XL|L?X{0,3})(IX|I?V|V?I{1,3}))',\"\",L_HumTwoTreaCh)"
   ]
  },
  {
   "cell_type": "code",
   "execution_count": 180,
   "metadata": {},
   "outputs": [],
   "source": [
    "# Remove all numbers\n",
    "L_HumTwoTreaNum = re.sub(r'[0-9].*?',\"\",L_HumTwoTreaCh)"
   ]
  },
  {
   "cell_type": "code",
   "execution_count": 181,
   "metadata": {},
   "outputs": [
    {
     "name": "stdout",
     "output_type": "stream",
     "text": [
      "two treatises of government in the former the false principles and foundation of sir robert filmer and his followers are detected and overthrown the latter is an essay concerning the original extent and end of civil government john locke the preface reader thou hast here the beginning and end of a discourse concerning government what fate has otherwise disposed of the papers that should have filled up the middle and were more than all the rest it is not worth while to tell thee these which remain i hope are sufficient to establish the throne of our great restorer our present king william to make good his title in else consent of the people which being the only one of all lawful governments he has more fully and clearly than any prince in christendom and to justify to the world the people of england whose love of their just and natural rights with their resolution to preserve them saved the nation when it war on the very brink of slavery and ruin if these papers have that evidence i flatter myself is to be found in them there will be no great miss of those which are lost and my reader may be satisfied without them for i imagine i shall have neither the time nor inclination to repeat my pains and fill up the wanting part of my answer by tracing sir robert again through all the windings and obscurities which are to be met with in the several branches of his wonderful system the king and body of the nation have since so thoroughly confuted his hypothesis that i suppose nobody hereafter will have either the confidence to appear against our common safety and be again an advocate for slavery or the weakness to be deceived with contradictions dressed up in a popular style and well turned periods for if any one will be at the pains himself in those parts which are here untouched to strip sir roberts discourses of the flourish of doubtful expressions and endeavour to reduce his words to direct positive intelligible propositions and then compare them one with another he will q\n"
     ]
    }
   ],
   "source": [
    "# Remove all punctuation\n",
    "L_HumTwoTreaDot = re.sub(r'[^\\w\\s]',\"\",L_HumTwoTreaNum)\n",
    "\n",
    "# Remove white space\n",
    "L_HumTwoTreaClean = re.sub(r'\\n',\" \",L_HumTwoTreaDot)\n",
    "\n",
    "# Remove double spaces +\n",
    "L_HumTwoTreaClean = re.sub(r'\\s\\s+',\" \",L_HumTwoTreaClean)\n",
    "\n",
    "# Lowercase\n",
    "L_HumTwoTreaClean = L_HumTwoTreaClean.lower()\n",
    "\n",
    "print(L_HumTwoTreaClean[:2000])"
   ]
  },
  {
   "cell_type": "code",
   "execution_count": 182,
   "metadata": {},
   "outputs": [],
   "source": [
    "# Call the lemmatization function\n",
    "L_HumTwoTreaClean = Lemmatize(L_HumTwoTreaClean)"
   ]
  },
  {
   "cell_type": "code",
   "execution_count": 183,
   "metadata": {},
   "outputs": [
    {
     "name": "stdout",
     "output_type": "stream",
     "text": [
      "two treatises of government in the former the false principles and foundation of sir robert filmer and his followers be detect and overthrow the latter be an essay concern the original extent and end of civil government john locke the preface reader thou hast here the begin and end of a discourse concern government what fate have otherwise dispose of the paper that should have fill up the middle and be more than all the rest it be not worth while to tell thee these which remain i hope be sufficient to establish the throne of our great restorer our present king william to make good his title in else consent of the people which be the only one of all lawful governments he have more fully and clearly than any prince in christendom and to justify to the world the people of england whose love of their just and natural right with their resolution to preserve them save the nation when it war on the very brink of slavery and ruin if these paper have that evidence i flatter myself be to be find in them there will be no great miss of those which be lose and my reader may be satisfy without them for i imagine i shall have neither the time nor inclination to repeat my pain and fill up the want part of my answer by trace sir robert again through all the wind and obscurities which be to be meet with in the several branch of his wonderful system the king and body of the nation have since so thoroughly confute his hypothesis that i suppose nobody hereafter will have either the confidence to appear against our common safety and be again an advocate for slavery or the weakness to be deceive with contradictions dress up in a popular style and well turn periods for if any one will be at the pain himself in those part which be here untouched to strip sir roberts discourse of the flourish of doubtful expressions and endeavour to reduce his word to direct positive intelligible proposition and then compare them one with another he will quickly be satisfy there be never so much glib nonsens\n"
     ]
    }
   ],
   "source": [
    "# Test lemmatized output\n",
    "print(L_HumTwoTreaClean[:2000])"
   ]
  },
  {
   "cell_type": "code",
   "execution_count": 184,
   "metadata": {},
   "outputs": [],
   "source": [
    "# Write out the clean version of the text file\n",
    "file = open(\"Clean/Locke_TwoTreatisesCLEAN.txt\", \"w\", encoding=\"utf-8\") \n",
    "file.write(L_HumTwoTreaClean) \n",
    "file.close() "
   ]
  },
  {
   "cell_type": "markdown",
   "metadata": {},
   "source": [
    "## Total Character Count and Concatenation"
   ]
  },
  {
   "cell_type": "code",
   "execution_count": 185,
   "metadata": {},
   "outputs": [
    {
     "name": "stdout",
     "output_type": "stream",
     "text": [
      "Berkeley: \n"
     ]
    },
    {
     "data": {
      "text/plain": [
       "986707"
      ]
     },
     "execution_count": 185,
     "metadata": {},
     "output_type": "execute_result"
    }
   ],
   "source": [
    "print(\"Berkeley: \")\n",
    "len(B_HumKnowClean + B_TheoryOfClean + B_ThreeDiaClean + B_AlcClean)"
   ]
  },
  {
   "cell_type": "code",
   "execution_count": 186,
   "metadata": {},
   "outputs": [],
   "source": [
    "# Concatenate all text files for analysis\n",
    "Berkeley = B_HumKnowClean + B_TheoryOfClean + B_ThreeDiaClean + B_AlcClean\n",
    "\n",
    "file = open(\"FullText/BerkeleyComplete.txt\", \"w\", encoding=\"utf-8\") \n",
    "file.write(Berkeley) \n",
    "file.close() "
   ]
  },
  {
   "cell_type": "code",
   "execution_count": 187,
   "metadata": {},
   "outputs": [
    {
     "name": "stdout",
     "output_type": "stream",
     "text": [
      "Hume: \n"
     ]
    },
    {
     "data": {
      "text/plain": [
       "2094204"
      ]
     },
     "execution_count": 187,
     "metadata": {},
     "output_type": "execute_result"
    }
   ],
   "source": [
    "print(\"Hume: \")\n",
    "len(H_MPLClean + H_HumUndClean + H_NatRelClean + H_SourceOfClean)"
   ]
  },
  {
   "cell_type": "code",
   "execution_count": 188,
   "metadata": {},
   "outputs": [],
   "source": [
    "# Concatenate all text files for analysis\n",
    "Hume = H_MPLClean + H_HumUndClean + H_NatRelClean + H_SourceOfClean\n",
    "\n",
    "file = open(\"FullText/HumeComplete.txt\", \"w\", encoding=\"utf-8\") \n",
    "file.write(Hume) \n",
    "file.close() "
   ]
  },
  {
   "cell_type": "code",
   "execution_count": 189,
   "metadata": {},
   "outputs": [
    {
     "name": "stdout",
     "output_type": "stream",
     "text": [
      "Locke: \n"
     ]
    },
    {
     "data": {
      "text/plain": [
       "2040978"
      ]
     },
     "execution_count": 189,
     "metadata": {},
     "output_type": "execute_result"
    }
   ],
   "source": [
    "print(\"Locke: \")\n",
    "len(L_HumUndClean + L_HumTwoTreaClean)"
   ]
  },
  {
   "cell_type": "code",
   "execution_count": 190,
   "metadata": {},
   "outputs": [],
   "source": [
    "# Concatenate all text files for analysis\n",
    "Locke = L_HumUndClean + L_HumTwoTreaClean\n",
    "\n",
    "file = open(\"FullText/LockeComplete.txt\", \"w\", encoding=\"utf-8\") \n",
    "file.write(Locke) \n",
    "file.close() "
   ]
  }
 ],
 "metadata": {
  "kernelspec": {
   "display_name": "Python 3",
   "language": "python",
   "name": "python3"
  },
  "language_info": {
   "codemirror_mode": {
    "name": "ipython",
    "version": 3
   },
   "file_extension": ".py",
   "mimetype": "text/x-python",
   "name": "python",
   "nbconvert_exporter": "python",
   "pygments_lexer": "ipython3",
   "version": "3.6.4"
  }
 },
 "nbformat": 4,
 "nbformat_minor": 2
}
