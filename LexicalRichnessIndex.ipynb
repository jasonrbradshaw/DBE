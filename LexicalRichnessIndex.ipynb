{
 "cells": [
  {
   "cell_type": "markdown",
   "metadata": {},
   "source": [
    "# Lexical Richness Index (LRI)"
   ]
  },
  {
   "cell_type": "code",
   "execution_count": 1,
   "metadata": {},
   "outputs": [],
   "source": [
    "# Import required modules\n",
    "\n",
    "# Lexical Richness module\n",
    "# Documentation: https://pypi.org/project/lexicalrichness/\n",
    "from lexicalrichness import LexicalRichness\n",
    "\n",
    "import nltk\n",
    "from nltk.corpus import stopwords \n",
    "from nltk.tokenize import word_tokenize \n",
    "\n",
    "from collections import Counter\n",
    "\n",
    "import random"
   ]
  },
  {
   "cell_type": "markdown",
   "metadata": {},
   "source": [
    "## John Locke"
   ]
  },
  {
   "cell_type": "code",
   "execution_count": 2,
   "metadata": {},
   "outputs": [
    {
     "data": {
      "text/plain": [
       "2040978"
      ]
     },
     "execution_count": 2,
     "metadata": {},
     "output_type": "execute_result"
    }
   ],
   "source": [
    "with open(\"FullText/LockeComplete.txt\", \"r\", encoding=\"utf-8\") as file:\n",
    "    Locke = file.read()\n",
    "\n",
    "len(Locke)"
   ]
  },
  {
   "cell_type": "code",
   "execution_count": 3,
   "metadata": {},
   "outputs": [
    {
     "name": "stdout",
     "output_type": "stream",
     "text": [
      "Lexical Richness of John Locke\n",
      "Unique Word Count: 8800\n",
      "Type Token Ratio: 0.022749305241388226\n",
      "Root Type Token Ratio: 14.148988872856478\n",
      "Corrected Type Token Ratio: 10.00484597892982\n",
      "Mean Segmental Type Token Ratio: 0.8591416752843168\n",
      "Moving Average Type Token Ratio: 0.8593303533353228\n",
      "Measure of Textual Lexical Diversity: 56.95987689180785\n",
      "Hypergeometric Distribution Diversity: 0.8255656836997587\n"
     ]
    }
   ],
   "source": [
    "# LRI of full text\n",
    "locke = LexicalRichness(Locke)\n",
    "\n",
    "print(\"Lexical Richness of John Locke\")\n",
    "\n",
    "# Return (unique) word count\n",
    "print(\"Unique Word Count: %s\" % locke.terms)\n",
    "\n",
    "# Return Type Token Ratio (TTR) of text\n",
    "print(\"Type Token Ratio: %s\" % locke.ttr)\n",
    "\n",
    "# Return Root Type Token Ratio (RTTR) of text\n",
    "print(\"Root Type Token Ratio: %s\" % locke.rttr)\n",
    "\n",
    "# Return Corrected Type Token Ratio (CTTR) of text\n",
    "print(\"Corrected Type Token Ratio: %s\" % locke.cttr)\n",
    "\n",
    "# Return Mean Segmental Type Token Ratio (MSTTR) of text\n",
    "print(\"Mean Segmental Type Token Ratio: %s\" % locke.msttr(segment_window=25))\n",
    "\n",
    "# Return Moving Average Type Token Ratio (MATTR) of text\n",
    "print(\"Moving Average Type Token Ratio: %s\" % locke.mattr(window_size=25))\n",
    "\n",
    "# Return Measure of Textual Lexical Diversity (MTLD)\n",
    "print(\"Measure of Textual Lexical Diversity: %s\" % locke.mtld(threshold=0.72))\n",
    "\n",
    "# Return hypergeometric distribution diversity (HD-D) measure.\n",
    "print(\"Hypergeometric Distribution Diversity: %s\" % locke.hdd(draws=42))"
   ]
  },
  {
   "cell_type": "markdown",
   "metadata": {},
   "source": [
    "### LRI Mean Average Function"
   ]
  },
  {
   "cell_type": "code",
   "execution_count": 4,
   "metadata": {},
   "outputs": [
    {
     "name": "stdout",
     "output_type": "stream",
     "text": [
      "Unique Word Count: 1602.8\n",
      "Type Token Ratio: 0.16\n",
      "Root Type Token Ratio: 16.03\n",
      "Corrected Type Token Ratio: 11.33\n",
      "Mean Segmental Type Token Ratio: 0.88\n",
      "Moving Average Type Token Ratio: 0.88\n",
      "Measure of Textual Lexical Diversity: 84.02\n",
      "Hypergeometric Distribution Diversity: 0.82\n"
     ]
    }
   ],
   "source": [
    "# For accurate comparison, Jockers recommends comparing random 10,000 word chunks of each corpus\n",
    "# Use without stopwords as all vocabulary matters here\n",
    "# Build a function to select 10,000 random words and find mean average of multiple LRIs\n",
    "def LRI (times, text):\n",
    "    \n",
    "    # Empty variables for LRI mean averages\n",
    "    UWQavg = []\n",
    "    TTRavg = []\n",
    "    RTTRavg = []\n",
    "    CTTRavg = []\n",
    "    MSTTRavg = []\n",
    "    MATTRavg = []\n",
    "    MTLDavg = []\n",
    "    HDDavg = []\n",
    "    \n",
    "    # Tokenize text for randomization with NLTK\n",
    "    textToke = nltk.word_tokenize(text)\n",
    "    \n",
    "    # Iterate through the function multiple times\n",
    "    for i in range(times):\n",
    "        \n",
    "        # Pick 10000 random words via RANDOM\n",
    "        textRand = random.sample(textToke, 10000)\n",
    "    \n",
    "        # Convert back to string\n",
    "        textStr = ' '.join(textRand)\n",
    "    \n",
    "        # Perform LRI with LexicalRichness\n",
    "        textLRI = LexicalRichness(textStr)\n",
    "    \n",
    "        # Unique Word Count\n",
    "        UWQ = textLRI.terms\n",
    "        # Type Token Ratio \n",
    "        TTR = textLRI.ttr\n",
    "        # Root Type Token Ratio \n",
    "        RTTR = textLRI.rttr\n",
    "        # Corrected Type Token Ratio \n",
    "        CTTR = textLRI.cttr\n",
    "        # Mean Segmental Type Token Ratio \n",
    "        MSTTR = textLRI.msttr(segment_window=25)\n",
    "        # Return Moving Average Type Token Ratio (MATTR) of text\n",
    "        MATTR = textLRI.mattr(window_size=25)\n",
    "        # Measure of Textual Lexical Diversity \n",
    "        MTLD = textLRI.mtld(threshold=0.72)\n",
    "        # Hypergeometric Distribution Diversity measure\n",
    "        HDD = textLRI.hdd(draws=42)\n",
    "        \n",
    "        # Append results for mean average\n",
    "        UWQavg.append(UWQ)\n",
    "        TTRavg.append(TTR)\n",
    "        RTTRavg.append(RTTR)\n",
    "        CTTRavg.append(CTTR)\n",
    "        MSTTRavg.append(MSTTR)\n",
    "        MATTRavg.append(MATTR)\n",
    "        MTLDavg.append(MTLD)\n",
    "        HDDavg.append(HDD)\n",
    "                                         # Average results, round to 2 decimal places\n",
    "    print(\"Unique Word Count: %s\" % round(sum(UWQavg)/len(UWQavg), 2))\n",
    "    print(\"Type Token Ratio: %s\" % round(sum(TTRavg)/len(TTRavg), 2))\n",
    "    print(\"Root Type Token Ratio: %s\" % round(sum(RTTRavg)/len(RTTRavg), 2))\n",
    "    print(\"Corrected Type Token Ratio: %s\" % round(sum(CTTRavg)/len(CTTRavg), 2))\n",
    "    print(\"Mean Segmental Type Token Ratio: %s\" % round(sum(MSTTRavg)/len(MSTTRavg), 2))\n",
    "    print(\"Moving Average Type Token Ratio: %s\" % round(sum(MATTRavg)/len(MATTRavg), 2))\n",
    "    print(\"Measure of Textual Lexical Diversity: %s\" % round(sum(MTLDavg)/len(MTLDavg), 2))\n",
    "    print(\"Hypergeometric Distribution Diversity: %s\" % round(sum(HDDavg)/len(HDDavg), 2))\n",
    "    return;\n",
    "\n",
    "# Iterate through function multiple times and average results\n",
    "LRI(10, Locke)"
   ]
  },
  {
   "cell_type": "markdown",
   "metadata": {},
   "source": [
    "### Word Frequency and Count"
   ]
  },
  {
   "cell_type": "code",
   "execution_count": 5,
   "metadata": {},
   "outputs": [
    {
     "name": "stdout",
     "output_type": "stream",
     "text": [
      "{'while', 'him', 'down', 'with', 'we', 'doesn', 'y', 'mightn', \"isn't\", 'yourselves', 'his', \"you'll\", 'did', 'didn', 'not', 'even', 'your', 'than', 'theirs', \"wouldn't\", 'for', \"you're\", 'whom', 'had', 'so', \"it's\", 'they', 'no', 'again', 'and', 'she', 'very', 'can', 'wa', 'isn', \"haven't\", 'doing', 'those', 'how', 'under', 'further', 'other', 'this', 'don', 'but', 'as', 'was', 'their', 'above', 'weren', 'into', 'these', 'shouldn', 'through', 'have', 'most', 'do', 'during', 'after', 'or', 'why', 'her', 'dont', 'then', 'just', 'ma', 'below', 'the', 'me', 'all', \"you'd\", 'been', 'shan', 'some', 'out', 'on', 'until', \"mightn't\", 'am', 'it', \"she's\", 'an', 'is', 'now', \"aren't\", 'here', 'nor', \"that'll\", \"you've\", 'once', 'only', 'should', 'o', 's', \"won't\", 'wouldn', 'yours', 'against', 'herself', 'does', \"shouldn't\", 'such', 'aren', 'at', 'between', 'were', 've', 'what', 'much', 'its', \"didn't\", \"shan't\", 'them', 'few', \"doesn't\", 'myself', 'to', 'won', \"weren't\", 'are', 'has', 'a', 'too', 'couldn', 'if', 'my', \"hasn't\", 'that', 'our', 't', 'i', 'itself', 'm', 'needn', 'yourself', 'both', 'off', 'by', 'being', 'having', 'because', 'own', \"couldn't\", \"mustn't\", 'ain', 'you', 'there', 'one', 'any', \"wasn't\", 'ours', 'who', 'each', 'where', 'ourselves', 'when', 'which', 'of', 'hers', 'will', 'from', 'he', 'may', 'about', 're', 'haven', 'before', 'more', 'be', 'll', 'hasn', 'mustn', 'wasn', \"needn't\", 'must', 'themselves', \"should've\", 'hadn', 'd', 'every', \"hadn't\", \"don't\", 'in', 'same', 'over', 'himself', 'would', 'up'}\n"
     ]
    }
   ],
   "source": [
    "# Write out new file with stopwords removed for each text file.\n",
    "\n",
    "stop_words = set(stopwords.words('english')) \n",
    "\n",
    "# Add additional text specific stopwords\n",
    "stop_words.update(('one','may','wa','would','every','must','much','dont','must','even'))\n",
    "\n",
    "print(stop_words)"
   ]
  },
  {
   "cell_type": "code",
   "execution_count": 6,
   "metadata": {},
   "outputs": [],
   "source": [
    "#Build stopword files\n",
    "\n",
    "file = open(\"Clean/Locke_HumanUnderstandingCLEAN.txt\") \n",
    "line = file.read() # Use this to read file content as a stream: \n",
    "words = line.split() \n",
    "for r in words: \n",
    "    if not r in stop_words: \n",
    "        appendFile = open('Stopword/Locke_HumanUnderstandingSTOPWORDS.txt','a') \n",
    "        appendFile.write(\" \"+r) \n",
    "        appendFile.close() \n",
    "        \n",
    "file = open(\"Clean/Locke_TwoTreatisesCLEAN.txt\") \n",
    "line = file.read() # Use this to read file content as a stream: \n",
    "words = line.split() \n",
    "for r in words: \n",
    "    if not r in stop_words: \n",
    "        appendFile = open('Stopword/Locke_TwoTreatisesSTOPWORDS.txt','a') \n",
    "        appendFile.write(\" \"+r) \n",
    "        appendFile.close() \n",
    "        \n",
    "file = open(\"FullText/LockeComplete.txt\") \n",
    "line = file.read() # Use this to read file content as a stream: \n",
    "words = line.split() \n",
    "for r in words: \n",
    "    if not r in stop_words: \n",
    "        appendFile = open('Stopword/LockeCompleteSTOPWORDS.txt','a') \n",
    "        appendFile.write(\" \"+r) \n",
    "        appendFile.close() "
   ]
  },
  {
   "cell_type": "code",
   "execution_count": 7,
   "metadata": {},
   "outputs": [],
   "source": [
    "# Open .txt files with stopwords removed\n",
    "with open(\"Stopword/Locke_HumanUnderstandingSTOPWORDS.txt\", \"r\", encoding=\"utf-8\") as file:\n",
    "    LockeHum = file.read()\n",
    "    \n",
    "with open(\"Stopword/Locke_TwoTreatisesSTOPWORDS.txt\", \"r\", encoding=\"utf-8\") as file:\n",
    "    LockeTwo = file.read()\n",
    "    \n",
    "with open(\"Stopword/LockeCompleteSTOPWORDS.txt\", \"r\", encoding=\"utf-8\") as file:\n",
    "    LockeCom = file.read()"
   ]
  },
  {
   "cell_type": "code",
   "execution_count": 8,
   "metadata": {},
   "outputs": [
    {
     "name": "stdout",
     "output_type": "stream",
     "text": [
      "[('idea', 25011), ('ideas', 21064), ('make', 17112), ('mind', 16188), ('think', 12537), ('name', 12093), ('man', 11592), ('knowledge', 10428), ('men', 10236), ('body', 9648), ('part', 9486), ('know', 9330), ('word', 8772), ('use', 8247), ('yet', 8220)]\n",
      "[('power', 9516), ('right', 7044), ('make', 5226), ('man', 4404), ('government', 4227), ('father', 4140), ('men', 4023), ('give', 3774), ('adam', 3714), ('god', 3540), ('law', 3525), ('author', 3492), ('nature', 3330), ('say', 3273), ('people', 3216)]\n",
      "[('idea', 25014), ('make', 22338), ('ideas', 21072), ('mind', 16355), ('man', 15987), ('power', 15907), ('think', 14357), ('men', 14243), ('name', 12536), ('part', 11542), ('word', 10591), ('without', 10543), ('know', 10522), ('knowledge', 10500), ('body', 10425)]\n"
     ]
    }
   ],
   "source": [
    "# Tokenize, Word Frequency and Count function\n",
    "def WordFreq (text):\n",
    "    textToke = nltk.word_tokenize(text)\n",
    "    textWord = nltk.Text(textToke)\n",
    "    textFreq = nltk.FreqDist(textWord)\n",
    "    textCount = Counter(textFreq)\n",
    "    print(Counter(textCount).most_common(15))\n",
    "    return;\n",
    "\n",
    "WordFreq(LockeHum)\n",
    "WordFreq(LockeTwo)\n",
    "WordFreq(LockeCom)"
   ]
  },
  {
   "cell_type": "markdown",
   "metadata": {},
   "source": [
    "## George Berkeley"
   ]
  },
  {
   "cell_type": "code",
   "execution_count": 9,
   "metadata": {},
   "outputs": [
    {
     "data": {
      "text/plain": [
       "986707"
      ]
     },
     "execution_count": 9,
     "metadata": {},
     "output_type": "execute_result"
    }
   ],
   "source": [
    "with open(\"FullText/BerkeleyComplete.txt\", \"r\", encoding=\"utf-8\") as file:\n",
    "    Berkeley = file.read()\n",
    "\n",
    "len(Berkeley)"
   ]
  },
  {
   "cell_type": "code",
   "execution_count": 10,
   "metadata": {},
   "outputs": [
    {
     "name": "stdout",
     "output_type": "stream",
     "text": [
      "Lexical Richness of George Berkeley\n",
      "Unique Word Count: 6972\n",
      "Type Token Ratio: 0.03804368585038988\n",
      "Root Type Token Ratio: 16.286208206605927\n",
      "Corrected Type Token Ratio: 11.516088262707052\n",
      "Mean Segmental Type Token Ratio: 0.8706630286494635\n",
      "Moving Average Type Token Ratio: 0.8704321678248385\n",
      "Measure of Textual Lexical Diversity: 67.08905926109193\n",
      "Hypergeometric Distribution Diversity: 0.8395401378169307\n"
     ]
    }
   ],
   "source": [
    "berkeley = LexicalRichness(Berkeley)\n",
    "\n",
    "# Return word count\n",
    "print(\"Lexical Richness of George Berkeley\")\n",
    "\n",
    "# Return (unique) word count\n",
    "print(\"Unique Word Count: %s\" % berkeley.terms)\n",
    "\n",
    "# Return Type Token Ratio (TTR) of text\n",
    "print(\"Type Token Ratio: %s\" % berkeley.ttr)\n",
    "\n",
    "# Return Root Type Token Ratio (RTTR) of text\n",
    "print(\"Root Type Token Ratio: %s\" % berkeley.rttr)\n",
    "\n",
    "# Return Corrected Type Token Ratio (CTTR) of text\n",
    "print(\"Corrected Type Token Ratio: %s\" % berkeley.cttr)\n",
    "\n",
    "# Return Mean Segmental Type Token Ratio (MSTTR) of text\n",
    "print(\"Mean Segmental Type Token Ratio: %s\" % berkeley.msttr(segment_window=25))\n",
    "\n",
    "# Return Moving Average Type Token Ratio (MATTR) of text\n",
    "print(\"Moving Average Type Token Ratio: %s\" % berkeley.mattr(window_size=25))\n",
    "\n",
    "# Return Measure of Textual Lexical Diversity (MTLD)\n",
    "print(\"Measure of Textual Lexical Diversity: %s\" % berkeley.mtld(threshold=0.72))\n",
    "\n",
    "# Return hypergeometric distribution diversity (HD-D) measure.\n",
    "print(\"Hypergeometric Distribution Diversity: %s\" % berkeley.hdd(draws=42))"
   ]
  },
  {
   "cell_type": "code",
   "execution_count": 11,
   "metadata": {},
   "outputs": [
    {
     "name": "stdout",
     "output_type": "stream",
     "text": [
      "Unique Word Count: 1814.4\n",
      "Type Token Ratio: 0.18\n",
      "Root Type Token Ratio: 18.14\n",
      "Corrected Type Token Ratio: 12.83\n",
      "Mean Segmental Type Token Ratio: 0.89\n",
      "Moving Average Type Token Ratio: 0.89\n",
      "Measure of Textual Lexical Diversity: 100.85\n",
      "Hypergeometric Distribution Diversity: 0.84\n"
     ]
    }
   ],
   "source": [
    "# LRI Mean Average Function\n",
    "LRI(10, Berkeley)"
   ]
  },
  {
   "cell_type": "markdown",
   "metadata": {},
   "source": [
    "### Word Frequency and Count"
   ]
  },
  {
   "cell_type": "code",
   "execution_count": 12,
   "metadata": {},
   "outputs": [],
   "source": [
    "file = open(\"Clean/Berkeley_AlciphronCLEAN.txt\") \n",
    "line = file.read() # Use this to read file content as a stream: \n",
    "words = line.split() \n",
    "for r in words: \n",
    "    if not r in stop_words: \n",
    "        appendFile = open('Stopword/Berkeley_AlciphronSTOPWORDS.txt','a') \n",
    "        appendFile.write(\" \"+r) \n",
    "        appendFile.close() \n",
    "        \n",
    "file = open(\"Clean/Berkeley_HumanKnowledgeCLEAN.txt\") \n",
    "line = file.read() # Use this to read file content as a stream: \n",
    "words = line.split() \n",
    "for r in words: \n",
    "    if not r in stop_words: \n",
    "        appendFile = open('Stopword/Berkeley_HumanKnowledgeSTOPWORDS.txt','a') \n",
    "        appendFile.write(\" \"+r) \n",
    "        appendFile.close() \n",
    "        \n",
    "file = open(\"Clean/Berkeley_TheoryOfVisionCLEAN.txt\") \n",
    "line = file.read() # Use this to read file content as a stream: \n",
    "words = line.split() \n",
    "for r in words: \n",
    "    if not r in stop_words: \n",
    "        appendFile = open('Stopword/Berkeley_TheoryOfVisionSTOPWORDS.txt','a') \n",
    "        appendFile.write(\" \"+r) \n",
    "        appendFile.close() \n",
    "        \n",
    "file = open(\"Clean/Berkeley_ThreeDialoguesCLEAN.txt\") \n",
    "line = file.read() # Use this to read file content as a stream: \n",
    "words = line.split() \n",
    "for r in words: \n",
    "    if not r in stop_words: \n",
    "        appendFile = open('Stopword/Berkeley_ThreeDialoguesSTOPWORDS.txt','a') \n",
    "        appendFile.write(\" \"+r) \n",
    "        appendFile.close() \n",
    "        \n",
    "file = open(\"FullText/BerkeleyComplete.txt\") \n",
    "line = file.read() # Use this to read file content as a stream: \n",
    "words = line.split() \n",
    "for r in words: \n",
    "    if not r in stop_words: \n",
    "        appendFile = open('Stopword/BerkeleyCompleteSTOPWORDS.txt','a') \n",
    "        appendFile.write(\" \"+r) \n",
    "        appendFile.close() "
   ]
  },
  {
   "cell_type": "code",
   "execution_count": 13,
   "metadata": {},
   "outputs": [],
   "source": [
    "# Open .txt files with stopwords removed\n",
    "with open(\"Stopword/Berkeley_AlciphronSTOPWORDS.txt\", \"r\") as file:\n",
    "    BerkeleyAlc = file.read()\n",
    "    \n",
    "with open(\"Stopword/Berkeley_HumanKnowledgeSTOPWORDS.txt\", \"r\") as file:\n",
    "    BerkeleyHum = file.read()\n",
    "    \n",
    "with open(\"Stopword/Berkeley_TheoryOfVisionSTOPWORDS.txt\", \"r\") as file:\n",
    "    BerkeleyThe = file.read()\n",
    "    \n",
    "with open(\"Stopword/Berkeley_ThreeDialoguesSTOPWORDS.txt\", \"r\") as file:\n",
    "    BerkeleyThr = file.read()\n",
    "    \n",
    "with open(\"Stopword/BerkeleyCompleteSTOPWORDS.txt\", \"r\") as file:\n",
    "    BerkeleyCom = file.read()"
   ]
  },
  {
   "cell_type": "code",
   "execution_count": 14,
   "metadata": {},
   "outputs": [
    {
     "name": "stdout",
     "output_type": "stream",
     "text": [
      "[('men', 3232), ('think', 2874), ('man', 2560), ('say', 2244), ('god', 2002), ('make', 1956), ('religion', 1700), ('see', 1630), ('good', 1614), ('things', 1608), ('sense', 1568), ('know', 1566), ('mind', 1478), ('alciphron', 1432), ('free', 1374)]\n",
      "[('mind', 1798), ('idea', 1708), ('ideas', 1572), ('thing', 1106), ('sense', 1056), ('exist', 1022), ('perceive', 1010), ('without', 1000), ('say', 994), ('motion', 944), ('things', 918), ('think', 888), ('body', 848), ('abstract', 838), ('spirit', 784)]\n",
      "[('object', 2328), ('distance', 1680), ('visible', 1392), ('sight', 1272), ('eye', 1184), ('tangible', 1040), ('idea', 972), ('mind', 896), ('perceive', 874), ('see', 850), ('magnitude', 846), ('make', 814), ('ideas', 780), ('greater', 664), ('figure', 656)]\n",
      "[('mind', 1968), ('perceive', 1774), ('things', 1572), ('exist', 1536), ('thing', 1444), ('think', 1430), ('sense', 1424), ('matter', 1232), ('know', 1206), ('say', 1184), ('existence', 1088), ('ideas', 1074), ('sensible', 1056), ('idea', 1046), ('see', 968)]\n",
      "[('mind', 6140), ('think', 5786), ('say', 4908), ('things', 4560), ('idea', 4514), ('sense', 4346), ('object', 4314), ('men', 4252), ('thing', 4248), ('see', 4086), ('make', 4078), ('ideas', 4014), ('perceive', 4010), ('man', 3640), ('know', 3640)]\n"
     ]
    }
   ],
   "source": [
    "# Tokenize, Word Frequency and Count \n",
    "WordFreq(BerkeleyAlc)\n",
    "WordFreq(BerkeleyHum)\n",
    "WordFreq(BerkeleyThe)\n",
    "WordFreq(BerkeleyThr)\n",
    "WordFreq(BerkeleyCom)"
   ]
  },
  {
   "cell_type": "markdown",
   "metadata": {},
   "source": [
    "## David Hume"
   ]
  },
  {
   "cell_type": "code",
   "execution_count": 15,
   "metadata": {},
   "outputs": [
    {
     "data": {
      "text/plain": [
       "2094204"
      ]
     },
     "execution_count": 15,
     "metadata": {},
     "output_type": "execute_result"
    }
   ],
   "source": [
    "with open(\"FullText/HumeComplete.txt\", \"r\", encoding=\"utf-8\") as file:\n",
    "    Hume = file.read()\n",
    "\n",
    "len(Hume)"
   ]
  },
  {
   "cell_type": "code",
   "execution_count": 16,
   "metadata": {},
   "outputs": [
    {
     "name": "stdout",
     "output_type": "stream",
     "text": [
      "Lexical Richness of David Hume\n",
      "Unique Word Count: 14970\n",
      "Type Token Ratio: 0.040178535482987866\n",
      "Root Type Token Ratio: 24.524939881278573\n",
      "Corrected Type Token Ratio: 17.341751298244482\n",
      "Mean Segmental Type Token Ratio: 0.8736012883311353\n",
      "Moving Average Type Token Ratio: 0.8737627730088239\n",
      "Measure of Textual Lexical Diversity: 74.82424024214168\n",
      "Hypergeometric Distribution Diversity: 0.8383810802901128\n"
     ]
    }
   ],
   "source": [
    "hume = LexicalRichness(Hume)\n",
    "\n",
    "# Return word count\n",
    "print(\"Lexical Richness of David Hume\")\n",
    "\n",
    "# Return (unique) word count\n",
    "print(\"Unique Word Count: %s\" % hume.terms)\n",
    "\n",
    "# Return Type Token Ratio (TTR) of text\n",
    "print(\"Type Token Ratio: %s\" % hume.ttr)\n",
    "\n",
    "# Return Root Type Token Ratio (RTTR) of text\n",
    "print(\"Root Type Token Ratio: %s\" % hume.rttr)\n",
    "\n",
    "# Return Corrected Type Token Ratio (CTTR) of text\n",
    "print(\"Corrected Type Token Ratio: %s\" % hume.cttr)\n",
    "\n",
    "# Return Mean Segmental Type Token Ratio (MSTTR) of text\n",
    "print(\"Mean Segmental Type Token Ratio: %s\" % hume.msttr(segment_window=25))\n",
    "\n",
    "# Return Moving Average Type Token Ratio (MATTR) of text\n",
    "print(\"Moving Average Type Token Ratio: %s\" % hume.mattr(window_size=25))\n",
    "\n",
    "# Return Measure of Textual Lexical Diversity (MTLD)\n",
    "print(\"Measure of Textual Lexical Diversity: %s\" % hume.mtld(threshold=0.72))\n",
    "\n",
    "# Return hypergeometric distribution diversity (HD-D) measure.\n",
    "print(\"Hypergeometric Distribution Diversity: %s\" % hume.hdd(draws=42))"
   ]
  },
  {
   "cell_type": "code",
   "execution_count": 17,
   "metadata": {},
   "outputs": [
    {
     "name": "stdout",
     "output_type": "stream",
     "text": [
      "Unique Word Count: 2397.8\n",
      "Type Token Ratio: 0.24\n",
      "Root Type Token Ratio: 23.98\n",
      "Corrected Type Token Ratio: 16.96\n",
      "Mean Segmental Type Token Ratio: 0.89\n",
      "Moving Average Type Token Ratio: 0.89\n",
      "Measure of Textual Lexical Diversity: 110.33\n",
      "Hypergeometric Distribution Diversity: 0.84\n"
     ]
    }
   ],
   "source": [
    "# LRI Mean Average Function\n",
    "LRI(10, Hume)"
   ]
  },
  {
   "cell_type": "markdown",
   "metadata": {},
   "source": [
    "### Word Frequency and Count"
   ]
  },
  {
   "cell_type": "code",
   "execution_count": 18,
   "metadata": {},
   "outputs": [],
   "source": [
    "file = open(\"Clean/Hume_EssaysMoralPoliticalLiteraryCLEAN.txt\", encoding=\"utf-8\") \n",
    "line = file.read() # Use this to read file content as a stream: \n",
    "words = line.split() \n",
    "for r in words: \n",
    "    if not r in stop_words: \n",
    "        appendFile = open('Stopword/Hume_EssaysMoralPoliticalLiterarySTOPWORDS.txt','a', encoding=\"utf-8\") \n",
    "        appendFile.write(\" \"+r) \n",
    "        appendFile.close() \n",
    "        \n",
    "file = open(\"Clean/Hume_HumanUnderstandingCLEAN.txt\") \n",
    "line = file.read() # Use this to read file content as a stream: \n",
    "words = line.split() \n",
    "for r in words: \n",
    "    if not r in stop_words: \n",
    "        appendFile = open('Stopword/Hume_HumanUnderstandingSTOPWORDS.txt','a') \n",
    "        appendFile.write(\" \"+r) \n",
    "        appendFile.close() \n",
    "        \n",
    "file = open(\"Clean/Hume_NaturalReligionCLEAN.txt\") \n",
    "line = file.read() # Use this to read file content as a stream: \n",
    "words = line.split() \n",
    "for r in words: \n",
    "    if not r in stop_words: \n",
    "        appendFile = open('Stopword/Hume_NaturalReligionSTOPWORDS.txt','a') \n",
    "        appendFile.write(\" \"+r) \n",
    "        appendFile.close() \n",
    "        \n",
    "file = open(\"Clean/Hume_SourcesofMoralsCLEAN.txt\") \n",
    "line = file.read() # Use this to read file content as a stream: \n",
    "words = line.split() \n",
    "for r in words: \n",
    "    if not r in stop_words: \n",
    "        appendFile = open('Stopword/Hume_SourcesofMoralsSTOPWORDS.txt','a') \n",
    "        appendFile.write(\" \"+r) \n",
    "        appendFile.close() \n",
    "        \n",
    "file = open(\"FullText/HumeComplete.txt\", encoding=\"utf-8\") \n",
    "line = file.read() # Use this to read file content as a stream: \n",
    "words = line.split() \n",
    "for r in words: \n",
    "    if not r in stop_words: \n",
    "        appendFile = open('Stopword/HumeCompleteSTOPWORDS.txt','a', encoding=\"utf-8\") \n",
    "        appendFile.write(\" \"+r) \n",
    "        appendFile.close() "
   ]
  },
  {
   "cell_type": "code",
   "execution_count": 19,
   "metadata": {},
   "outputs": [],
   "source": [
    "# Open .txt files with stopwords removed\n",
    "with open(\"Stopword/Hume_EssaysMoralPoliticalLiterarySTOPWORDS.txt\", \"r\", encoding=\"utf-8\") as file:\n",
    "    HumeEss = file.read()\n",
    "    \n",
    "with open(\"Stopword/Hume_HumanUnderstandingSTOPWORDS.txt\", \"r\") as file:\n",
    "    HumeHum = file.read()\n",
    "    \n",
    "with open(\"Stopword/Hume_NaturalReligionSTOPWORDS.txt\", \"r\") as file:\n",
    "    HumeNat = file.read()\n",
    "    \n",
    "with open(\"Stopword/Hume_SourcesofMoralsSTOPWORDS.txt\", \"r\") as file:\n",
    "    HumeSou = file.read()\n",
    "    \n",
    "with open(\"Stopword/HumeCompleteSTOPWORDS.txt\", \"r\", encoding=\"utf-8\") as file:\n",
    "    HumeCom = file.read()"
   ]
  },
  {
   "cell_type": "code",
   "execution_count": 20,
   "metadata": {},
   "outputs": [
    {
     "name": "stdout",
     "output_type": "stream",
     "text": [
      "[('great', 4504), ('men', 3636), ('government', 3610), ('people', 3436), ('make', 3342), ('time', 3280), ('man', 3060), ('though', 2856), ('upon', 2816), ('state', 2648), ('reason', 2638), ('without', 2496), ('essay', 2480), ('give', 2440), ('find', 2428)]\n",
      "[('reason', 1728), ('cause', 1612), ('object', 1572), ('nature', 1472), ('effect', 1426), ('experience', 1270), ('mind', 1184), ('idea', 1034), ('human', 1024), ('power', 968), ('us', 966), ('never', 936), ('find', 840), ('though', 800), ('upon', 800)]\n",
      "[('cause', 1316), ('reason', 1180), ('human', 1108), ('world', 946), ('nature', 920), ('god', 898), ('say', 812), ('think', 802), ('cleanthes', 784), ('mind', 744), ('universe', 728), ('make', 688), ('part', 648), ('philo', 632), ('way', 620)]\n",
      "[('man', 1144), ('society', 1072), ('sentiment', 1064), ('us', 1002), ('human', 962), ('make', 958), ('reason', 944), ('moral', 930), ('justice', 928), ('think', 852), ('give', 844), ('general', 832), ('good', 832), ('virtue', 808), ('rule', 784)]\n",
      "[('reason', 6490), ('great', 5640), ('make', 5554), ('nature', 5548), ('man', 5324), ('men', 5208), ('human', 5094), ('people', 4564), ('us', 4508), ('cause', 4478), ('time', 4416), ('give', 4402), ('without', 4320), ('say', 4230), ('though', 4208)]\n"
     ]
    }
   ],
   "source": [
    "# Tokenize, Word Frequency and Count \n",
    "WordFreq(HumeEss)\n",
    "WordFreq(HumeHum)\n",
    "WordFreq(HumeNat)\n",
    "WordFreq(HumeSou)\n",
    "WordFreq(HumeCom)"
   ]
  },
  {
   "cell_type": "markdown",
   "metadata": {},
   "source": [
    "## LRI Visualization"
   ]
  },
  {
   "cell_type": "code",
   "execution_count": 24,
   "metadata": {},
   "outputs": [
    {
     "data": {
      "image/png": "[encoded data removed]",
      "text/plain": [
       "<Figure size 1296x576 with 1 Axes>"
      ]
     },
     "metadata": {},
     "output_type": "display_data"
    }
   ],
   "source": [
    "# Credit: Josh Hemann\n",
    "\n",
    "import numpy as np\n",
    "import matplotlib.pyplot as plt\n",
    "from matplotlib.ticker import MaxNLocator\n",
    "from collections import namedtuple\n",
    "\n",
    "%matplotlib inline\n",
    "\n",
    "# Changes bar graph aesthetics\n",
    "import seaborn as sns\n",
    "\n",
    "sns.set()\n",
    "\n",
    "n_groups = 7\n",
    "    \n",
    "Locke = (0.16, 16.03, 11.33, 0.88, 0.88, 84.02, 0.82)\n",
    "Berkeley = (0.18, 18.14, 12.83, 0.89, 0.89, 100.85, 0.84)\n",
    "Hume = (0.24, 23.98, 16.96, 0.89, 0.89, 110.33, 0.84)\n",
    "\n",
    "fig, ax = plt.subplots(figsize=(18,8)) # set the size that you'd like (width, height)\n",
    "\n",
    "ind = np.arange(n_groups)\n",
    "bar_width = 0.25\n",
    "\n",
    "opacity = 0.4\n",
    "error_config = {'ecolor': '0.3'}\n",
    "\n",
    "rects1 = ax.bar(ind - bar_width, Locke, bar_width,\n",
    "                color='cornflowerblue', label='Locke')\n",
    "\n",
    "rects2 = ax.bar(ind, Berkeley, bar_width,\n",
    "                color='orange', label='Berkeley')\n",
    "\n",
    "rects3 = ax.bar(ind + bar_width, Hume, bar_width, \n",
    "                color='palegreen', label='Hume')\n",
    "    \n",
    "ax.set_xlabel('Measure')\n",
    "ax.set_ylabel('Scores')\n",
    "ax.set_title('Lexical Richness Index')\n",
    "ax.set_xticks(ind + bar_width / 2)\n",
    "ax.set_xticklabels(('TTR', 'RTTR', 'CTTR', 'MSTTR', 'MATTR', 'MTLD', 'H-DD'))\n",
    "ax.legend(loc='upper left', fontsize='xx-large')\n",
    "\n",
    "fig.tight_layout()\n",
    "plt.show()"
   ]
  },
  {
   "cell_type": "code",
   "execution_count": 25,
   "metadata": {},
   "outputs": [
    {
     "data": {
      "image/png": "[encoded data removed]",
      "text/plain": [
       "<Figure size 1296x576 with 1 Axes>"
      ]
     },
     "metadata": {},
     "output_type": "display_data"
    }
   ],
   "source": [
    "n_groups = 3\n",
    "    \n",
    "Locke = (16.03, 11.33, 84.02)\n",
    "Berkeley = (18.14, 12.83, 100.85)\n",
    "Hume = (23.98, 16.96, 110.33)\n",
    "\n",
    "fig, ax = plt.subplots(figsize=(18,8)) # set the size that you'd like (width, height)\n",
    "\n",
    "ind = np.arange(n_groups)\n",
    "bar_width = 0.25\n",
    "\n",
    "opacity = 0.4\n",
    "error_config = {'ecolor': '0.3'}\n",
    "\n",
    "rects1 = ax.bar(ind - bar_width, Locke, bar_width,\n",
    "                color='cornflowerblue', label='Locke')\n",
    "\n",
    "rects2 = ax.bar(ind, Berkeley, bar_width,\n",
    "                color='orange', label='Berkeley')\n",
    "\n",
    "rects3 = ax.bar(ind + bar_width, Hume, bar_width, \n",
    "                color='palegreen', label='Hume')\n",
    "    \n",
    "ax.set_xlabel('Measure', fontsize=20)\n",
    "ax.set_ylabel('Scores', fontsize=20)\n",
    "ax.set_title('Lexical Richness Index', fontsize=20)\n",
    "ax.set_xticks(ind + bar_width / 15)\n",
    "ax.set_xticklabels(('RTTR', 'CTTR', 'MTLD'), fontsize=15)\n",
    "ax.legend(loc='upper left', fontsize='xx-large')\n",
    "\n",
    "# Plot values on bar graph\n",
    "for a, b in zip(ind - bar_width, Locke):\n",
    "    plt.text(a-.08, b-8, str(b), fontweight='bold', fontsize=20)\n",
    "\n",
    "for a, b in zip(ind, Berkeley):\n",
    "    plt.text(a-.08, b-8, str(b), fontweight='bold', fontsize=20)\n",
    "    \n",
    "for a, b in zip(ind + bar_width, Hume):\n",
    "    plt.text(a-.08, b-8, str(b), fontweight='bold', fontsize=20)\n",
    "    \n",
    "fig.tight_layout()\n",
    "plt.show()"
   ]
  },
  {
   "cell_type": "code",
   "execution_count": 26,
   "metadata": {},
   "outputs": [
    {
     "data": {
      "image/png": "[encoded data removed]",
      "text/plain": [
       "<Figure size 1296x576 with 1 Axes>"
      ]
     },
     "metadata": {},
     "output_type": "display_data"
    }
   ],
   "source": [
    "n_groups = 4\n",
    "\n",
    "Locke = (0.16, 0.88, 0.88, 0.82)\n",
    "Berkeley = (0.18, 0.89, 0.89, 0.84)\n",
    "Hume = (0.24, 0.89, 0.89, 0.84)\n",
    "\n",
    "fig, ax = plt.subplots(figsize=(18,8)) # set the size that you'd like (width, height)\n",
    "\n",
    "ind = np.arange(n_groups)\n",
    "bar_width = 0.25\n",
    "\n",
    "opacity = 0.4\n",
    "error_config = {'ecolor': '0.3'}\n",
    "\n",
    "rects1 = ax.bar(ind - bar_width, Locke, bar_width,\n",
    "                color='cornflowerblue', label='Locke')\n",
    "\n",
    "rects2 = ax.bar(ind, Berkeley, bar_width,\n",
    "                color='orange', label='Berkeley')\n",
    "\n",
    "rects3 = ax.bar(ind + bar_width, Hume, bar_width, \n",
    "                color='palegreen', label='Hume')\n",
    "    \n",
    "ax.set_xlabel('Measure', fontsize=20)\n",
    "ax.set_ylabel('Scores', fontsize=20)\n",
    "ax.set_title('Lexical Richness Index', fontsize=20)\n",
    "ax.set_xticks(ind + bar_width / 15)\n",
    "ax.set_xticklabels(('TTR', 'MSTTR', 'MATTR', 'H-DD'), fontsize=15)\n",
    "ax.legend(loc='upper left', fontsize='xx-large')\n",
    "\n",
    "# Plot values on bar graph\n",
    "for a, b in zip(ind - bar_width, Locke):\n",
    "    plt.text(a-.08, b-.1, str(b), fontweight='bold', fontsize=20)\n",
    "\n",
    "for a, b in zip(ind, Berkeley):\n",
    "    plt.text(a-.08, b-.1, str(b), fontweight='bold', fontsize=20)\n",
    "    \n",
    "for a, b in zip(ind + bar_width, Hume):\n",
    "    plt.text(a-.08, b-.1, str(b), fontweight='bold', fontsize=20)\n",
    "    \n",
    "fig.tight_layout()\n",
    "plt.show()"
   ]
  },
  {
   "cell_type": "code",
   "execution_count": 28,
   "metadata": {},
   "outputs": [
    {
     "data": {
      "image/png": "[encoded data removed]",
      "text/plain": [
       "<Figure size 1296x576 with 1 Axes>"
      ]
     },
     "metadata": {},
     "output_type": "display_data"
    }
   ],
   "source": [
    "# Interactive visualization for HTML\n",
    "\n",
    "import numpy as np\n",
    "import matplotlib.pyplot as plt\n",
    "from matplotlib.ticker import MaxNLocator\n",
    "from collections import namedtuple\n",
    "\n",
    "%matplotlib inline\n",
    "\n",
    "# Changes bar graph aesthetics\n",
    "import seaborn as sns\n",
    "\n",
    "sns.set()\n",
    "\n",
    "n_groups = 7\n",
    "    \n",
    "Locke = (0.16, 16.03, 11.33, 0.88, 0.88, 84.02, 0.82)\n",
    "Berkeley = (0.18, 18.14, 12.83, 0.89, 0.89, 100.85, 0.84)\n",
    "Hume = (0.24, 23.98, 16.96, 0.89, 0.89, 110.33, 0.84)\n",
    "\n",
    "fig, ax = plt.subplots(figsize=(18,8)) # set the size that you'd like (width, height)\n",
    "\n",
    "ind = np.arange(n_groups)\n",
    "bar_width = 0.25\n",
    "\n",
    "opacity = 0.4\n",
    "error_config = {'ecolor': '0.3'}\n",
    "\n",
    "rects1 = ax.bar(ind - bar_width, Locke, bar_width,\n",
    "                color='cornflowerblue', label='Locke')\n",
    "\n",
    "rects2 = ax.bar(ind, Berkeley, bar_width,\n",
    "                color='orange', label='Berkeley')\n",
    "\n",
    "rects3 = ax.bar(ind + bar_width, Hume, bar_width, \n",
    "                color='palegreen', label='Hume')\n",
    "\n",
    "# Plot values on bar graph\n",
    "for a, b in zip(ind - bar_width, Locke):\n",
    "    plt.text(a-.08, b+1, str(b), fontweight='bold', fontsize=10)\n",
    "\n",
    "for a, b in zip(ind, Berkeley):\n",
    "    plt.text(a-.08, b+1, str(b), fontweight='bold', fontsize=10)\n",
    "    \n",
    "for a, b in zip(ind + bar_width, Hume):\n",
    "    plt.text(a-.08, b+1, str(b), fontweight='bold', fontsize=10)\n",
    "    \n",
    "ax.set_xlabel('Measure')\n",
    "ax.set_ylabel('Scores')\n",
    "ax.set_title('Lexical Richness Index')\n",
    "ax.set_xticks(ind + bar_width / 35)\n",
    "ax.set_xticklabels(('TTR', 'RTTR', 'CTTR', 'MSTTR', 'MATTR', 'MTLD', 'H-DD'))\n",
    "ax.legend(loc='upper left', fontsize='xx-large')\n",
    "\n",
    "fig.tight_layout()\n",
    "plt.show()"
   ]
  },
  {
   "cell_type": "code",
   "execution_count": 30,
   "metadata": {},
   "outputs": [
    {
     "data": {
      "text/html": [
       "\n",
       "\n",
       "<style>\n",
       "\n",
       "</style>\n",
       "\n",
       "<div id=\"fig_el2786016348051176728193409782\"></div>\n",
       "<script>\n",
       "function mpld3_load_lib(url, callback){\n",
       "  var s = document.createElement('script');\n",
       "  s.src = url;\n",
       "  s.async = true;\n",
       "  s.onreadystatechange = s.onload = callback;\n",
       "  s.onerror = function(){console.warn(\"failed to load library \" + url);};\n",
       "  document.getElementsByTagName(\"head\")[0].appendChild(s);\n",
       "}\n",
       "\n",
       "if(typeof(mpld3) !== \"undefined\" && mpld3._mpld3IsLoaded){\n",
       "   // already loaded: just create the figure\n",
       "   !function(mpld3){\n",
       "       \n",
       "       mpld3.draw_figure(\"fig_el2786016348051176728193409782\", {\"width\": 432.0, \"height\": 288.0, \"axes\": [], \"data\": {}, \"id\": \"el278601634805117672\", \"plugins\": [{\"type\": \"reset\"}, {\"type\": \"zoom\", \"button\": true, \"enabled\": false}, {\"type\": \"boxzoom\", \"button\": true, \"enabled\": false}]});\n",
       "   }(mpld3);\n",
       "}else if(typeof define === \"function\" && define.amd){\n",
       "   // require.js is available: use it to load d3/mpld3\n",
       "   require.config({paths: {d3: \"https://mpld3.github.io/js/d3.v3.min\"}});\n",
       "   require([\"d3\"], function(d3){\n",
       "      window.d3 = d3;\n",
       "      mpld3_load_lib(\"https://mpld3.github.io/js/mpld3.v0.3.1.dev1.js\", function(){\n",
       "         \n",
       "         mpld3.draw_figure(\"fig_el2786016348051176728193409782\", {\"width\": 432.0, \"height\": 288.0, \"axes\": [], \"data\": {}, \"id\": \"el278601634805117672\", \"plugins\": [{\"type\": \"reset\"}, {\"type\": \"zoom\", \"button\": true, \"enabled\": false}, {\"type\": \"boxzoom\", \"button\": true, \"enabled\": false}]});\n",
       "      });\n",
       "    });\n",
       "}else{\n",
       "    // require.js not available: dynamically load d3 & mpld3\n",
       "    mpld3_load_lib(\"https://mpld3.github.io/js/d3.v3.min.js\", function(){\n",
       "         mpld3_load_lib(\"https://mpld3.github.io/js/mpld3.v0.3.1.dev1.js\", function(){\n",
       "                 \n",
       "                 mpld3.draw_figure(\"fig_el2786016348051176728193409782\", {\"width\": 432.0, \"height\": 288.0, \"axes\": [], \"data\": {}, \"id\": \"el278601634805117672\", \"plugins\": [{\"type\": \"reset\"}, {\"type\": \"zoom\", \"button\": true, \"enabled\": false}, {\"type\": \"boxzoom\", \"button\": true, \"enabled\": false}]});\n",
       "            })\n",
       "         });\n",
       "}\n",
       "</script>"
      ],
      "text/plain": [
       "<IPython.core.display.HTML object>"
      ]
     },
     "execution_count": 30,
     "metadata": {},
     "output_type": "execute_result"
    }
   ],
   "source": [
    "# Export as HTML\n",
    "import mpld3\n",
    "mpld3.enable_notebook()\n",
    "mpld3.save_html(fig,\"lri.html\")\n",
    "mpld3.fig_to_html(fig,template_type=\"simple\")\n",
    "mpld3.disable_notebook()\n",
    "mpld3.display()"
   ]
  }
 ],
 "metadata": {
  "kernelspec": {
   "display_name": "Python 3",
   "language": "python",
   "name": "python3"
  },
  "language_info": {
   "codemirror_mode": {
    "name": "ipython",
    "version": 3
   },
   "file_extension": ".py",
   "mimetype": "text/x-python",
   "name": "python",
   "nbconvert_exporter": "python",
   "pygments_lexer": "ipython3",
   "version": "3.6.4"
  }
 },
 "nbformat": 4,
 "nbformat_minor": 2
}
